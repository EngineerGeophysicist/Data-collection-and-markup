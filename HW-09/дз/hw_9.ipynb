{
 "cells": [
  {
   "cell_type": "markdown",
   "id": "9a23f3ae-9905-4bc1-99ef-a668c3284708",
   "metadata": {},
   "source": [
    "# ДЗ по \"Сбор и разметка данных (семинары)\"\n",
    "## Семинар 9. Инструменты разметки наборов данных\n",
    "* Домашнее задание:\n",
    "- Задача 1.\n",
    "Выберите датасет, который имеет отношение к вашей области интересов или исследований. Датасет должен содержать неструктурированные данные, требующие разметки для решения конкретной задачи, например, анализа настроений или распознавания именованных сущностей.\n",
    "\n",
    "- Задача 2.\n",
    "Выполните разметку на основе правил (rule-based labeling) на подмножестве выбранного датасета. Разработайте и реализуйте набор правил или условий, которые позволят автоматически присваивать метки данным на основе определенных шаблонов или критериев.\n",
    "\n",
    "- Задача 3.\n",
    "Выполните разметку вручную отдельного подмножества выбранного датасета с помощью выбранного вами инструмента разметки.\n",
    "\n",
    "- Задача 4.\n",
    "Объедините данные, размеченные вручную, с данными, размеченными на основе правил. Объедините два подмножества размеченных данных в один набор данных, сохранив при этом соответствующую структуру и целостность.\n",
    "\n",
    "- Задача 5.\n",
    "Обучите модель машинного обучения, используя объединенный набор размеченных данных. Разделите датасет на обучающий и тестовый наборы и используйте обучающий набор для обучения модели.\n",
    "\n",
    "- Задача 6.\n",
    "Оценить эффективность обученной модели на тестовом датасете. Используйте подходящие метрики оценки. Интерпретируйте результаты и проанализируйте эффективность модели в решении задачи разметки.\n",
    "\n"
   ]
  },
  {
   "cell_type": "code",
   "execution_count": 1,
   "id": "21d0cb0d-dfc9-4cd5-94e9-0f21f7841c2c",
   "metadata": {
    "ExecuteTime": {
     "end_time": "2024-04-15T13:43:55.369652Z",
     "start_time": "2024-04-15T13:43:55.360649Z"
    },
    "slideshow": {
     "slide_type": ""
    },
    "tags": []
   },
   "outputs": [
    {
     "name": "stdout",
     "output_type": "stream",
     "text": [
      "Requirement already satisfied: pandas in c:\\anaconda\\lib\\site-packages (1.5.3)\n",
      "Requirement already satisfied: python-dateutil>=2.8.1 in c:\\anaconda\\lib\\site-packages (from pandas) (2.8.2)\n",
      "Requirement already satisfied: pytz>=2020.1 in c:\\users\\рост\\appdata\\roaming\\python\\python310\\site-packages (from pandas) (2022.7)\n",
      "Requirement already satisfied: numpy>=1.21.0 in c:\\users\\рост\\appdata\\roaming\\python\\python310\\site-packages (from pandas) (1.24.4)\n",
      "Requirement already satisfied: six>=1.5 in c:\\anaconda\\lib\\site-packages (from python-dateutil>=2.8.1->pandas) (1.16.0)\n",
      "Requirement already satisfied: nltk in c:\\anaconda\\lib\\site-packages (3.7)\n",
      "Requirement already satisfied: click in c:\\users\\рост\\appdata\\roaming\\python\\python310\\site-packages (from nltk) (7.1.2)\n",
      "Requirement already satisfied: joblib in c:\\users\\рост\\appdata\\roaming\\python\\python310\\site-packages (from nltk) (1.3.2)\n",
      "Requirement already satisfied: regex>=2021.8.3 in c:\\anaconda\\lib\\site-packages (from nltk) (2022.7.9)\n",
      "Requirement already satisfied: tqdm in c:\\anaconda\\lib\\site-packages (from nltk) (4.64.1)\n",
      "Requirement already satisfied: colorama in c:\\users\\рост\\appdata\\roaming\\python\\python310\\site-packages (from tqdm->nltk) (0.4.6)\n",
      "Requirement already satisfied: scikit-learn in c:\\users\\рост\\appdata\\roaming\\python\\python310\\site-packages (1.4.1.post1)\n",
      "Requirement already satisfied: numpy<2.0,>=1.19.5 in c:\\users\\рост\\appdata\\roaming\\python\\python310\\site-packages (from scikit-learn) (1.24.4)\n",
      "Requirement already satisfied: scipy>=1.6.0 in c:\\anaconda\\lib\\site-packages (from scikit-learn) (1.10.0)\n",
      "Requirement already satisfied: joblib>=1.2.0 in c:\\users\\рост\\appdata\\roaming\\python\\python310\\site-packages (from scikit-learn) (1.3.2)\n",
      "Requirement already satisfied: threadpoolctl>=2.0.0 in c:\\users\\рост\\appdata\\roaming\\python\\python310\\site-packages (from scikit-learn) (3.3.0)\n",
      "Collecting label-studio\n",
      "  Downloading label_studio-1.12.0.post0-py3-none-any.whl.metadata (14 kB)\n",
      "Collecting Django<3.3.0,>=3.2.24 (from label-studio)\n",
      "  Downloading Django-3.2.25-py3-none-any.whl.metadata (4.1 kB)\n",
      "Requirement already satisfied: appdirs>=1.4.3 in c:\\users\\рост\\appdata\\roaming\\python\\python310\\site-packages (from label-studio) (1.4.4)\n",
      "Collecting attr==0.3.1 (from label-studio)\n",
      "  Downloading attr-0.3.1.tar.gz (1.7 kB)\n",
      "  Preparing metadata (setup.py): started\n",
      "  Preparing metadata (setup.py): finished with status 'done'\n",
      "Requirement already satisfied: attrs>=19.2.0 in c:\\users\\рост\\appdata\\roaming\\python\\python310\\site-packages (from label-studio) (23.2.0)\n",
      "Collecting azure-storage-blob>=12.6.0 (from label-studio)\n",
      "  Downloading azure_storage_blob-12.20.0-py3-none-any.whl.metadata (26 kB)\n",
      "Requirement already satisfied: bleach<5.1.0,>=5.0.0 in c:\\users\\рост\\appdata\\roaming\\python\\python310\\site-packages (from label-studio) (5.0.1)\n",
      "Collecting boto<3.0.0,>=2.49.0 (from label-studio)\n",
      "  Downloading boto-2.49.0-py2.py3-none-any.whl.metadata (7.3 kB)\n",
      "Collecting boto3<2.0.0,>=1.28.58 (from label-studio)\n",
      "  Downloading boto3-1.34.106-py3-none-any.whl.metadata (6.6 kB)\n",
      "Collecting botocore<2.0.0,>=1.31.58 (from label-studio)\n",
      "  Downloading botocore-1.34.106-py3-none-any.whl.metadata (5.7 kB)\n",
      "Collecting boxing>=0.1.4 (from label-studio)\n",
      "  Downloading boxing-0.1.4-py3-none-any.whl.metadata (1.5 kB)\n",
      "Requirement already satisfied: colorama>=0.4.4 in c:\\users\\рост\\appdata\\roaming\\python\\python310\\site-packages (from label-studio) (0.4.6)\n",
      "Requirement already satisfied: defusedxml>=0.7.1 in c:\\users\\рост\\appdata\\roaming\\python\\python310\\site-packages (from label-studio) (0.7.1)\n",
      "Collecting django-annoying==0.10.6 (from label-studio)\n",
      "  Downloading django_annoying-0.10.6-py2.py3-none-any.whl.metadata (2.3 kB)\n",
      "Collecting django-cors-headers==3.6.0 (from label-studio)\n",
      "  Downloading django_cors_headers-3.6.0-py3-none-any.whl.metadata (14 kB)\n",
      "Collecting django-csp==3.7 (from label-studio)\n",
      "  Downloading django_csp-3.7-py2.py3-none-any.whl.metadata (2.7 kB)\n",
      "Collecting django-debug-toolbar==3.2.1 (from label-studio)\n",
      "  Downloading django_debug_toolbar-3.2.1-py3-none-any.whl.metadata (3.2 kB)\n",
      "Collecting django-environ==0.10.0 (from label-studio)\n",
      "  Downloading django_environ-0.10.0-py2.py3-none-any.whl.metadata (13 kB)\n",
      "Collecting django-extensions==3.1.0 (from label-studio)\n",
      "  Downloading django_extensions-3.1.0-py3-none-any.whl.metadata (5.0 kB)\n",
      "Collecting django-filter==2.4.0 (from label-studio)\n",
      "  Downloading django_filter-2.4.0-py3-none-any.whl.metadata (4.1 kB)\n",
      "Collecting django-model-utils==4.1.1 (from label-studio)\n",
      "  Downloading django_model_utils-4.1.1-py3-none-any.whl.metadata (17 kB)\n",
      "Collecting django-ranged-fileresponse>=0.1.2 (from label-studio)\n",
      "  Downloading django-ranged-fileresponse-0.1.2.tar.gz (2.7 kB)\n",
      "  Preparing metadata (setup.py): started\n",
      "  Preparing metadata (setup.py): finished with status 'done'\n",
      "Collecting django-rq==2.5.1 (from label-studio)\n",
      "  Downloading django_rq-2.5.1-py2.py3-none-any.whl.metadata (17 kB)\n",
      "Collecting django-storages==1.12.3 (from label-studio)\n",
      "  Downloading django_storages-1.12.3-py3-none-any.whl.metadata (54 kB)\n",
      "     ---------------------------------------- 0.0/54.8 kB ? eta -:--:--\n",
      "     ------------------------------------- -- 51.2/54.8 kB 2.6 MB/s eta 0:00:01\n",
      "     ---------------------------------------- 54.8/54.8 kB 1.4 MB/s eta 0:00:00\n",
      "Collecting django-user-agents==0.4.0 (from label-studio)\n",
      "  Downloading django_user_agents-0.4.0-py3-none-any.whl.metadata (6.2 kB)\n",
      "Collecting djangorestframework==3.13.1 (from label-studio)\n",
      "  Downloading djangorestframework-3.13.1-py3-none-any.whl.metadata (10 kB)\n",
      "Collecting drf-dynamic-fields==0.3.0 (from label-studio)\n",
      "  Downloading drf_dynamic_fields-0.3.0-py2.py3-none-any.whl.metadata (4.8 kB)\n",
      "Collecting drf-flex-fields==0.9.5 (from label-studio)\n",
      "  Downloading drf-flex-fields-0.9.5.tar.gz (27 kB)\n",
      "  Preparing metadata (setup.py): started\n",
      "  Preparing metadata (setup.py): finished with status 'done'\n",
      "Collecting drf-generators==0.3.0 (from label-studio)\n",
      "  Downloading drf-generators-0.3.0.tar.gz (9.4 kB)\n",
      "  Preparing metadata (setup.py): started\n",
      "  Preparing metadata (setup.py): finished with status 'done'\n",
      "Collecting google-cloud-logging<4.0.0,>=3.10.0 (from label-studio)\n",
      "  Downloading google_cloud_logging-3.10.0-py2.py3-none-any.whl.metadata (4.9 kB)\n",
      "Collecting google-cloud-storage<3.0.0,>=2.13.0 (from label-studio)\n",
      "  Downloading google_cloud_storage-2.16.0-py2.py3-none-any.whl.metadata (6.1 kB)\n",
      "Collecting htmlmin==0.1.12 (from label-studio)\n",
      "  Downloading htmlmin-0.1.12.tar.gz (19 kB)\n",
      "  Preparing metadata (setup.py): started\n",
      "  Preparing metadata (setup.py): finished with status 'done'\n",
      "Collecting humansignal-drf-yasg>=1.21.9 (from label-studio)\n",
      "  Downloading humansignal_drf_yasg-1.21.9-py3-none-any.whl.metadata (15 kB)\n",
      "Collecting jsonschema==3.2.0 (from label-studio)\n",
      "  Downloading jsonschema-3.2.0-py2.py3-none-any.whl.metadata (7.8 kB)\n",
      "Collecting label-studio-converter==0.0.58 (from label-studio)\n",
      "  Downloading label_studio_converter-0.0.58-py3-none-any.whl.metadata (8.7 kB)\n",
      "Collecting launchdarkly-server-sdk==8.2.1 (from label-studio)\n",
      "  Downloading launchdarkly_server_sdk-8.2.1-py3-none-any.whl.metadata (1.3 kB)\n",
      "Collecting lockfile>=0.12.0 (from label-studio)\n",
      "  Downloading lockfile-0.12.2-py2.py3-none-any.whl.metadata (2.4 kB)\n",
      "Requirement already satisfied: lxml>=4.2.5 in c:\\users\\рост\\appdata\\roaming\\python\\python310\\site-packages (from label-studio) (4.9.2)\n",
      "Requirement already satisfied: numpy<2.0.0,>=1.24.3 in c:\\users\\рост\\appdata\\roaming\\python\\python310\\site-packages (from label-studio) (1.24.4)\n",
      "Collecting openai<2.0.0,>=1.10.0 (from label-studio)\n",
      "  Downloading openai-1.30.1-py3-none-any.whl.metadata (21 kB)\n",
      "Collecting ordered-set==4.0.2 (from label-studio)\n",
      "  Downloading ordered-set-4.0.2.tar.gz (10 kB)\n",
      "  Preparing metadata (setup.py): started\n",
      "  Preparing metadata (setup.py): finished with status 'done'\n",
      "Requirement already satisfied: pandas>=0.24.0 in c:\\anaconda\\lib\\site-packages (from label-studio) (1.5.3)\n",
      "Collecting psycopg2-binary==2.9.6 (from label-studio)\n",
      "  Downloading psycopg2_binary-2.9.6-cp310-cp310-win_amd64.whl.metadata (4.6 kB)\n",
      "Requirement already satisfied: pydantic<=1.11.0,>=1.7.3 in c:\\users\\рост\\appdata\\roaming\\python\\python310\\site-packages (from label-studio) (1.10.14)\n",
      "Requirement already satisfied: python-dateutil>=2.8.1 in c:\\anaconda\\lib\\site-packages (from label-studio) (2.8.2)\n",
      "Requirement already satisfied: python-json-logger==2.0.4 in c:\\users\\рост\\appdata\\roaming\\python\\python310\\site-packages (from label-studio) (2.0.4)\n",
      "Requirement already satisfied: pytz<2023.0,>=2022.1 in c:\\users\\рост\\appdata\\roaming\\python\\python310\\site-packages (from label-studio) (2022.7)\n",
      "Requirement already satisfied: pyyaml>=6.0.0 in c:\\users\\рост\\appdata\\roaming\\python\\python310\\site-packages (from label-studio) (6.0)\n",
      "Collecting redis<4.0,>=3.5 (from label-studio)\n",
      "  Downloading redis-3.5.3-py2.py3-none-any.whl.metadata (36 kB)\n",
      "Requirement already satisfied: requests==2.31.0 in c:\\users\\рост\\appdata\\roaming\\python\\python310\\site-packages (from label-studio) (2.31.0)\n",
      "Collecting rq==1.10.1 (from label-studio)\n",
      "  Downloading rq-1.10.1-py2.py3-none-any.whl.metadata (1.6 kB)\n",
      "Collecting rules==2.2 (from label-studio)\n",
      "  Downloading rules-2.2.tar.gz (53 kB)\n",
      "     ---------------------------------------- 0.0/53.0 kB ? eta -:--:--\n",
      "     ---------------------------------------- 53.0/53.0 kB 2.9 MB/s eta 0:00:00\n",
      "  Preparing metadata (setup.py): started\n",
      "  Preparing metadata (setup.py): finished with status 'done'\n",
      "Collecting sentry-sdk>=1.1.0 (from label-studio)\n",
      "  Downloading sentry_sdk-2.2.0-py2.py3-none-any.whl.metadata (10 kB)\n",
      "Requirement already satisfied: ujson>=3.0.0 in c:\\users\\рост\\appdata\\roaming\\python\\python310\\site-packages (from label-studio) (5.9.0)\n",
      "Collecting urllib3<2.0.0,>=1.26.18 (from label-studio)\n",
      "  Downloading urllib3-1.26.18-py2.py3-none-any.whl.metadata (48 kB)\n",
      "     ---------------------------------------- 0.0/48.9 kB ? eta -:--:--\n",
      "     ---------------------------------------- 48.9/48.9 kB 2.4 MB/s eta 0:00:00\n",
      "Collecting wheel<=0.40.0,>=0.38.1 (from label-studio)\n",
      "  Downloading wheel-0.40.0-py3-none-any.whl.metadata (2.1 kB)\n",
      "Collecting xmljson==0.2.0 (from label-studio)\n",
      "  Downloading xmljson-0.2.0-py2.py3-none-any.whl.metadata (11 kB)\n",
      "Requirement already satisfied: six in c:\\anaconda\\lib\\site-packages (from django-annoying==0.10.6->label-studio) (1.16.0)\n",
      "Collecting sqlparse>=0.2.0 (from django-debug-toolbar==3.2.1->label-studio)\n",
      "  Downloading sqlparse-0.5.0-py3-none-any.whl.metadata (3.9 kB)\n",
      "Collecting user-agents (from django-user-agents==0.4.0->label-studio)\n",
      "  Downloading user_agents-2.2.0-py3-none-any.whl.metadata (7.9 kB)\n",
      "Requirement already satisfied: pyrsistent>=0.14.0 in c:\\users\\рост\\appdata\\roaming\\python\\python310\\site-packages (from jsonschema==3.2.0->label-studio) (0.19.3)\n",
      "Requirement already satisfied: setuptools in c:\\anaconda\\lib\\site-packages (from jsonschema==3.2.0->label-studio) (65.6.3)\n",
      "Requirement already satisfied: Pillow>=10.0.1 in c:\\anaconda\\lib\\site-packages (from label-studio-converter==0.0.58->label-studio) (10.2.0)\n",
      "Collecting nltk==3.6.7 (from label-studio-converter==0.0.58->label-studio)\n",
      "  Downloading nltk-3.6.7-py3-none-any.whl.metadata (2.8 kB)\n",
      "Collecting label-studio-tools>=0.0.3 (from label-studio-converter==0.0.58->label-studio)\n",
      "  Downloading label_studio_tools-0.0.4-py3-none-any.whl.metadata (566 bytes)\n",
      "Collecting ijson~=3.2.0.post0 (from label-studio-converter==0.0.58->label-studio)\n",
      "  Downloading ijson-3.2.3-cp310-cp310-win_amd64.whl.metadata (21 kB)\n",
      "Requirement already satisfied: certifi>=2018.4.16 in c:\\users\\рост\\appdata\\roaming\\python\\python310\\site-packages (from launchdarkly-server-sdk==8.2.1->label-studio) (2021.10.8)\n",
      "Collecting expiringdict>=1.1.4 (from launchdarkly-server-sdk==8.2.1->label-studio)\n",
      "  Downloading expiringdict-1.2.2-py3-none-any.whl.metadata (3.7 kB)\n",
      "Collecting pyRFC3339>=1.0 (from launchdarkly-server-sdk==8.2.1->label-studio)\n",
      "  Downloading pyRFC3339-1.1-py2.py3-none-any.whl.metadata (2.0 kB)\n",
      "Requirement already satisfied: semver>=2.10.2 in c:\\anaconda\\lib\\site-packages (from launchdarkly-server-sdk==8.2.1->label-studio) (2.13.0)\n",
      "Requirement already satisfied: charset-normalizer<4,>=2 in c:\\users\\рост\\appdata\\roaming\\python\\python310\\site-packages (from requests==2.31.0->label-studio) (2.0.8)\n",
      "Requirement already satisfied: idna<4,>=2.5 in c:\\users\\рост\\appdata\\roaming\\python\\python310\\site-packages (from requests==2.31.0->label-studio) (3.3)\n",
      "Requirement already satisfied: click>=5.0.0 in c:\\users\\рост\\appdata\\roaming\\python\\python310\\site-packages (from rq==1.10.1->label-studio) (7.1.2)\n",
      "Requirement already satisfied: joblib in c:\\users\\рост\\appdata\\roaming\\python\\python310\\site-packages (from nltk==3.6.7->label-studio-converter==0.0.58->label-studio) (1.3.2)\n",
      "Requirement already satisfied: regex>=2021.8.3 in c:\\anaconda\\lib\\site-packages (from nltk==3.6.7->label-studio-converter==0.0.58->label-studio) (2022.7.9)\n",
      "Requirement already satisfied: tqdm in c:\\anaconda\\lib\\site-packages (from nltk==3.6.7->label-studio-converter==0.0.58->label-studio) (4.64.1)\n",
      "Collecting azure-core>=1.28.0 (from azure-storage-blob>=12.6.0->label-studio)\n",
      "  Downloading azure_core-1.30.1-py3-none-any.whl.metadata (37 kB)\n",
      "Requirement already satisfied: cryptography>=2.1.4 in c:\\users\\рост\\appdata\\roaming\\python\\python310\\site-packages (from azure-storage-blob>=12.6.0->label-studio) (39.0.0)\n",
      "Requirement already satisfied: typing-extensions>=4.6.0 in c:\\users\\рост\\appdata\\roaming\\python\\python310\\site-packages (from azure-storage-blob>=12.6.0->label-studio) (4.10.0)\n",
      "Collecting isodate>=0.6.1 (from azure-storage-blob>=12.6.0->label-studio)\n",
      "  Downloading isodate-0.6.1-py2.py3-none-any.whl.metadata (9.6 kB)\n",
      "Requirement already satisfied: webencodings in c:\\users\\рост\\appdata\\roaming\\python\\python310\\site-packages (from bleach<5.1.0,>=5.0.0->label-studio) (0.5.1)\n",
      "Requirement already satisfied: jmespath<2.0.0,>=0.7.1 in c:\\anaconda\\lib\\site-packages (from boto3<2.0.0,>=1.28.58->label-studio) (0.10.0)\n",
      "Collecting s3transfer<0.11.0,>=0.10.0 (from boto3<2.0.0,>=1.28.58->label-studio)\n",
      "  Downloading s3transfer-0.10.1-py3-none-any.whl.metadata (1.7 kB)\n",
      "Collecting asgiref<4,>=3.3.2 (from Django<3.3.0,>=3.2.24->label-studio)\n",
      "  Downloading asgiref-3.8.1-py3-none-any.whl.metadata (9.3 kB)\n",
      "Collecting google-api-core!=2.0.*,!=2.1.*,!=2.10.*,!=2.2.*,!=2.3.*,!=2.4.*,!=2.5.*,!=2.6.*,!=2.7.*,!=2.8.*,!=2.9.*,<3.0.0dev,>=1.34.1 (from google-api-core[grpc]!=2.0.*,!=2.1.*,!=2.10.*,!=2.2.*,!=2.3.*,!=2.4.*,!=2.5.*,!=2.6.*,!=2.7.*,!=2.8.*,!=2.9.*,<3.0.0dev,>=1.34.1->google-cloud-logging<4.0.0,>=3.10.0->label-studio)\n",
      "  Downloading google_api_core-2.19.0-py3-none-any.whl.metadata (2.7 kB)\n",
      "Requirement already satisfied: google-auth!=2.24.0,!=2.25.0,<3.0.0dev,>=2.14.1 in c:\\anaconda\\lib\\site-packages (from google-cloud-logging<4.0.0,>=3.10.0->label-studio) (2.29.0)\n",
      "Collecting google-cloud-appengine-logging<2.0.0dev,>=0.1.0 (from google-cloud-logging<4.0.0,>=3.10.0->label-studio)\n",
      "  Downloading google_cloud_appengine_logging-1.4.3-py2.py3-none-any.whl.metadata (5.4 kB)\n",
      "Collecting google-cloud-audit-log<1.0.0dev,>=0.1.0 (from google-cloud-logging<4.0.0,>=3.10.0->label-studio)\n",
      "  Downloading google_cloud_audit_log-0.2.5-py2.py3-none-any.whl.metadata (1.4 kB)\n",
      "Collecting google-cloud-core<3.0.0dev,>=2.0.0 (from google-cloud-logging<4.0.0,>=3.10.0->label-studio)\n",
      "  Downloading google_cloud_core-2.4.1-py2.py3-none-any.whl.metadata (2.7 kB)\n",
      "Collecting grpc-google-iam-v1<1.0.0dev,>=0.12.4 (from google-cloud-logging<4.0.0,>=3.10.0->label-studio)\n",
      "  Downloading grpc_google_iam_v1-0.13.0-py2.py3-none-any.whl.metadata (3.3 kB)\n",
      "Collecting proto-plus<2.0.0dev,>=1.22.0 (from google-cloud-logging<4.0.0,>=3.10.0->label-studio)\n",
      "  Downloading proto_plus-1.23.0-py3-none-any.whl.metadata (2.2 kB)\n",
      "Requirement already satisfied: protobuf!=3.20.0,!=3.20.1,!=4.21.0,!=4.21.1,!=4.21.2,!=4.21.3,!=4.21.4,!=4.21.5,<5.0.0dev,>=3.19.5 in c:\\users\\рост\\appdata\\roaming\\python\\python310\\site-packages (from google-cloud-logging<4.0.0,>=3.10.0->label-studio) (4.25.3)\n",
      "Collecting google-resumable-media>=2.6.0 (from google-cloud-storage<3.0.0,>=2.13.0->label-studio)\n",
      "  Downloading google_resumable_media-2.7.0-py2.py3-none-any.whl.metadata (2.2 kB)\n",
      "Collecting google-crc32c<2.0dev,>=1.0 (from google-cloud-storage<3.0.0,>=2.13.0->label-studio)\n",
      "  Downloading google_crc32c-1.5.0-cp310-cp310-win_amd64.whl.metadata (2.3 kB)\n",
      "Requirement already satisfied: inflection>=0.3.1 in c:\\anaconda\\lib\\site-packages (from humansignal-drf-yasg>=1.21.9->label-studio) (0.5.1)\n",
      "Requirement already satisfied: packaging>=21.0 in c:\\anaconda\\lib\\site-packages (from humansignal-drf-yasg>=1.21.9->label-studio) (22.0)\n",
      "Collecting uritemplate>=3.0.0 (from humansignal-drf-yasg>=1.21.9->label-studio)\n",
      "  Downloading uritemplate-4.1.1-py2.py3-none-any.whl.metadata (2.9 kB)\n",
      "Requirement already satisfied: anyio<5,>=3.5.0 in c:\\users\\рост\\appdata\\roaming\\python\\python310\\site-packages (from openai<2.0.0,>=1.10.0->label-studio) (3.6.2)\n",
      "Collecting distro<2,>=1.7.0 (from openai<2.0.0,>=1.10.0->label-studio)\n",
      "  Downloading distro-1.9.0-py3-none-any.whl.metadata (6.8 kB)\n",
      "Requirement already satisfied: httpx<1,>=0.23.0 in c:\\users\\рост\\appdata\\roaming\\python\\python310\\site-packages (from openai<2.0.0,>=1.10.0->label-studio) (0.27.0)\n",
      "Requirement already satisfied: sniffio in c:\\users\\рост\\appdata\\roaming\\python\\python310\\site-packages (from openai<2.0.0,>=1.10.0->label-studio) (1.3.0)\n",
      "Requirement already satisfied: cffi>=1.12 in c:\\users\\рост\\appdata\\roaming\\python\\python310\\site-packages (from cryptography>=2.1.4->azure-storage-blob>=12.6.0->label-studio) (1.15.1)\n",
      "Collecting googleapis-common-protos<2.0.dev0,>=1.56.2 (from google-api-core!=2.0.*,!=2.1.*,!=2.10.*,!=2.2.*,!=2.3.*,!=2.4.*,!=2.5.*,!=2.6.*,!=2.7.*,!=2.8.*,!=2.9.*,<3.0.0dev,>=1.34.1->google-api-core[grpc]!=2.0.*,!=2.1.*,!=2.10.*,!=2.2.*,!=2.3.*,!=2.4.*,!=2.5.*,!=2.6.*,!=2.7.*,!=2.8.*,!=2.9.*,<3.0.0dev,>=1.34.1->google-cloud-logging<4.0.0,>=3.10.0->label-studio)\n",
      "  Downloading googleapis_common_protos-1.63.0-py2.py3-none-any.whl.metadata (1.5 kB)\n",
      "Requirement already satisfied: grpcio<2.0dev,>=1.33.2 in c:\\users\\рост\\appdata\\roaming\\python\\python310\\site-packages (from google-api-core[grpc]!=2.0.*,!=2.1.*,!=2.10.*,!=2.2.*,!=2.3.*,!=2.4.*,!=2.5.*,!=2.6.*,!=2.7.*,!=2.8.*,!=2.9.*,<3.0.0dev,>=1.34.1->google-cloud-logging<4.0.0,>=3.10.0->label-studio) (1.62.1)\n",
      "Collecting grpcio-status<2.0.dev0,>=1.33.2 (from google-api-core[grpc]!=2.0.*,!=2.1.*,!=2.10.*,!=2.2.*,!=2.3.*,!=2.4.*,!=2.5.*,!=2.6.*,!=2.7.*,!=2.8.*,!=2.9.*,<3.0.0dev,>=1.34.1->google-cloud-logging<4.0.0,>=3.10.0->label-studio)\n",
      "  Downloading grpcio_status-1.63.0-py3-none-any.whl.metadata (1.1 kB)\n",
      "Requirement already satisfied: cachetools<6.0,>=2.0.0 in c:\\anaconda\\lib\\site-packages (from google-auth!=2.24.0,!=2.25.0,<3.0.0dev,>=2.14.1->google-cloud-logging<4.0.0,>=3.10.0->label-studio) (5.3.3)\n",
      "Requirement already satisfied: pyasn1-modules>=0.2.1 in c:\\anaconda\\lib\\site-packages (from google-auth!=2.24.0,!=2.25.0,<3.0.0dev,>=2.14.1->google-cloud-logging<4.0.0,>=3.10.0->label-studio) (0.2.8)\n",
      "Requirement already satisfied: rsa<5,>=3.1.4 in c:\\anaconda\\lib\\site-packages (from google-auth!=2.24.0,!=2.25.0,<3.0.0dev,>=2.14.1->google-cloud-logging<4.0.0,>=3.10.0->label-studio) (4.9)\n",
      "Requirement already satisfied: httpcore==1.* in c:\\users\\рост\\appdata\\roaming\\python\\python310\\site-packages (from httpx<1,>=0.23.0->openai<2.0.0,>=1.10.0->label-studio) (1.0.5)\n",
      "Requirement already satisfied: h11<0.15,>=0.13 in c:\\users\\рост\\appdata\\roaming\\python\\python310\\site-packages (from httpcore==1.*->httpx<1,>=0.23.0->openai<2.0.0,>=1.10.0->label-studio) (0.14.0)\n",
      "Collecting ua-parser>=0.10.0 (from user-agents->django-user-agents==0.4.0->label-studio)\n",
      "  Downloading ua_parser-0.18.0-py2.py3-none-any.whl.metadata (1.4 kB)\n",
      "Requirement already satisfied: pycparser in c:\\users\\рост\\appdata\\roaming\\python\\python310\\site-packages (from cffi>=1.12->cryptography>=2.1.4->azure-storage-blob>=12.6.0->label-studio) (2.21)\n",
      "INFO: pip is looking at multiple versions of grpcio-status to determine which version is compatible with other requirements. This could take a while.\n",
      "Collecting grpcio-status<2.0.dev0,>=1.33.2 (from google-api-core[grpc]!=2.0.*,!=2.1.*,!=2.10.*,!=2.2.*,!=2.3.*,!=2.4.*,!=2.5.*,!=2.6.*,!=2.7.*,!=2.8.*,!=2.9.*,<3.0.0dev,>=1.34.1->google-cloud-logging<4.0.0,>=3.10.0->label-studio)\n",
      "  Downloading grpcio_status-1.62.2-py3-none-any.whl.metadata (1.3 kB)\n",
      "Collecting grpcio<2.0dev,>=1.33.2 (from google-api-core[grpc]!=2.0.*,!=2.1.*,!=2.10.*,!=2.2.*,!=2.3.*,!=2.4.*,!=2.5.*,!=2.6.*,!=2.7.*,!=2.8.*,!=2.9.*,<3.0.0dev,>=1.34.1->google-cloud-logging<4.0.0,>=3.10.0->label-studio)\n",
      "  Downloading grpcio-1.63.0-cp310-cp310-win_amd64.whl.metadata (3.3 kB)\n",
      "Requirement already satisfied: pyasn1<0.5.0,>=0.4.6 in c:\\anaconda\\lib\\site-packages (from pyasn1-modules>=0.2.1->google-auth!=2.24.0,!=2.25.0,<3.0.0dev,>=2.14.1->google-cloud-logging<4.0.0,>=3.10.0->label-studio) (0.4.8)\n",
      "Downloading label_studio-1.12.0.post0-py3-none-any.whl (81.5 MB)\n",
      "   ---------------------------------------- 0.0/81.5 MB ? eta -:--:--\n",
      "   ---------------------------------------- 0.1/81.5 MB 2.6 MB/s eta 0:00:31\n",
      "   ---------------------------------------- 0.2/81.5 MB 2.0 MB/s eta 0:00:42\n",
      "   ---------------------------------------- 0.2/81.5 MB 2.3 MB/s eta 0:00:36\n",
      "   ---------------------------------------- 0.4/81.5 MB 2.2 MB/s eta 0:00:37\n",
      "   ---------------------------------------- 0.5/81.5 MB 3.1 MB/s eta 0:00:27\n",
      "   ---------------------------------------- 0.8/81.5 MB 3.8 MB/s eta 0:00:22\n",
      "    --------------------------------------- 1.1/81.5 MB 4.5 MB/s eta 0:00:18\n",
      "    --------------------------------------- 1.6/81.5 MB 5.2 MB/s eta 0:00:16\n",
      "    --------------------------------------- 2.0/81.5 MB 6.0 MB/s eta 0:00:14\n",
      "   - -------------------------------------- 2.4/81.5 MB 6.6 MB/s eta 0:00:12\n",
      "   - -------------------------------------- 2.8/81.5 MB 6.9 MB/s eta 0:00:12\n",
      "   - -------------------------------------- 2.8/81.5 MB 6.9 MB/s eta 0:00:12\n",
      "   - -------------------------------------- 2.8/81.5 MB 6.9 MB/s eta 0:00:12\n",
      "   - -------------------------------------- 2.8/81.5 MB 6.9 MB/s eta 0:00:12\n",
      "   - -------------------------------------- 3.3/81.5 MB 6.0 MB/s eta 0:00:14\n",
      "   -- ------------------------------------- 4.2/81.5 MB 7.3 MB/s eta 0:00:11\n",
      "   -- ------------------------------------- 4.5/81.5 MB 7.5 MB/s eta 0:00:11\n",
      "   -- ------------------------------------- 4.5/81.5 MB 7.5 MB/s eta 0:00:11\n",
      "   -- ------------------------------------- 4.5/81.5 MB 7.5 MB/s eta 0:00:11\n",
      "   -- ------------------------------------- 5.4/81.5 MB 7.5 MB/s eta 0:00:11\n",
      "   --- ------------------------------------ 6.8/81.5 MB 8.9 MB/s eta 0:00:09\n",
      "   --- ------------------------------------ 7.3/81.5 MB 9.1 MB/s eta 0:00:09\n",
      "   --- ------------------------------------ 7.7/81.5 MB 9.3 MB/s eta 0:00:08\n",
      "   --- ------------------------------------ 8.1/81.5 MB 9.3 MB/s eta 0:00:08\n",
      "   ---- ----------------------------------- 8.5/81.5 MB 9.4 MB/s eta 0:00:08\n",
      "   ---- ----------------------------------- 9.0/81.5 MB 9.6 MB/s eta 0:00:08\n",
      "   ---- ----------------------------------- 9.4/81.5 MB 9.7 MB/s eta 0:00:08\n",
      "   ---- ----------------------------------- 9.8/81.5 MB 9.7 MB/s eta 0:00:08\n",
      "   ----- ---------------------------------- 10.3/81.5 MB 9.9 MB/s eta 0:00:08\n",
      "   ----- ---------------------------------- 10.7/81.5 MB 10.9 MB/s eta 0:00:07\n",
      "   ----- ---------------------------------- 11.1/81.5 MB 11.3 MB/s eta 0:00:07\n",
      "   ----- ---------------------------------- 11.6/81.5 MB 11.7 MB/s eta 0:00:06\n",
      "   ----- ---------------------------------- 12.0/81.5 MB 11.7 MB/s eta 0:00:06\n",
      "   ------ --------------------------------- 12.4/81.5 MB 11.5 MB/s eta 0:00:07\n",
      "   ------ --------------------------------- 12.8/81.5 MB 11.5 MB/s eta 0:00:06\n",
      "   ------ --------------------------------- 13.2/81.5 MB 13.4 MB/s eta 0:00:06\n",
      "   ------ --------------------------------- 13.7/81.5 MB 12.8 MB/s eta 0:00:06\n",
      "   ------ --------------------------------- 14.1/81.5 MB 12.6 MB/s eta 0:00:06\n",
      "   ------- -------------------------------- 14.5/81.5 MB 12.4 MB/s eta 0:00:06\n",
      "   ------- -------------------------------- 14.9/81.5 MB 13.9 MB/s eta 0:00:05\n",
      "   ------- -------------------------------- 15.4/81.5 MB 13.4 MB/s eta 0:00:05\n",
      "   ------- -------------------------------- 15.8/81.5 MB 13.1 MB/s eta 0:00:06\n",
      "   ------- -------------------------------- 16.2/81.5 MB 12.6 MB/s eta 0:00:06\n",
      "   -------- ------------------------------- 16.6/81.5 MB 12.1 MB/s eta 0:00:06\n",
      "   -------- ------------------------------- 17.1/81.5 MB 11.9 MB/s eta 0:00:06\n",
      "   -------- ------------------------------- 17.5/81.5 MB 11.9 MB/s eta 0:00:06\n",
      "   -------- ------------------------------- 17.9/81.5 MB 11.7 MB/s eta 0:00:06\n",
      "   --------- ------------------------------ 18.3/81.5 MB 11.7 MB/s eta 0:00:06\n",
      "   --------- ------------------------------ 18.7/81.5 MB 11.9 MB/s eta 0:00:06\n",
      "   --------- ------------------------------ 19.2/81.5 MB 11.7 MB/s eta 0:00:06\n",
      "   --------- ------------------------------ 19.6/81.5 MB 11.7 MB/s eta 0:00:06\n",
      "   --------- ------------------------------ 20.0/81.5 MB 11.9 MB/s eta 0:00:06\n",
      "   ---------- ----------------------------- 20.5/81.5 MB 11.7 MB/s eta 0:00:06\n",
      "   ---------- ----------------------------- 20.9/81.5 MB 11.7 MB/s eta 0:00:06\n",
      "   ---------- ----------------------------- 21.3/81.5 MB 11.9 MB/s eta 0:00:06\n",
      "   ---------- ----------------------------- 21.7/81.5 MB 11.7 MB/s eta 0:00:06\n",
      "   ---------- ----------------------------- 22.2/81.5 MB 11.7 MB/s eta 0:00:06\n",
      "   ----------- ---------------------------- 22.6/81.5 MB 11.9 MB/s eta 0:00:05\n",
      "   ----------- ---------------------------- 23.0/81.5 MB 11.7 MB/s eta 0:00:05\n",
      "   ----------- ---------------------------- 23.4/81.5 MB 11.7 MB/s eta 0:00:05\n",
      "   ----------- ---------------------------- 23.9/81.5 MB 11.9 MB/s eta 0:00:05\n",
      "   ----------- ---------------------------- 24.3/81.5 MB 11.7 MB/s eta 0:00:05\n",
      "   ------------ --------------------------- 24.7/81.5 MB 11.7 MB/s eta 0:00:05\n",
      "   ------------ --------------------------- 24.9/81.5 MB 11.7 MB/s eta 0:00:05\n",
      "   ------------ --------------------------- 25.1/81.5 MB 11.3 MB/s eta 0:00:06\n",
      "   ------------ --------------------------- 25.5/81.5 MB 11.1 MB/s eta 0:00:06\n",
      "   ------------ --------------------------- 25.9/81.5 MB 11.3 MB/s eta 0:00:05\n",
      "   ------------ --------------------------- 26.3/81.5 MB 11.3 MB/s eta 0:00:05\n",
      "   ------------- -------------------------- 26.8/81.5 MB 11.1 MB/s eta 0:00:05\n",
      "   ------------- -------------------------- 27.2/81.5 MB 11.3 MB/s eta 0:00:05\n",
      "   ------------- -------------------------- 27.6/81.5 MB 11.3 MB/s eta 0:00:05\n",
      "   ------------- -------------------------- 27.8/81.5 MB 11.3 MB/s eta 0:00:05\n",
      "   ------------- -------------------------- 27.9/81.5 MB 10.7 MB/s eta 0:00:05\n",
      "   ------------- -------------------------- 28.3/81.5 MB 10.7 MB/s eta 0:00:05\n",
      "   -------------- ------------------------- 28.7/81.5 MB 10.6 MB/s eta 0:00:05\n",
      "   -------------- ------------------------- 29.2/81.5 MB 10.6 MB/s eta 0:00:05\n",
      "   -------------- ------------------------- 29.2/81.5 MB 10.7 MB/s eta 0:00:05\n",
      "   -------------- ------------------------- 29.4/81.5 MB 9.9 MB/s eta 0:00:06\n",
      "   -------------- ------------------------- 29.8/81.5 MB 10.1 MB/s eta 0:00:06\n",
      "   -------------- ------------------------- 30.2/81.5 MB 10.1 MB/s eta 0:00:06\n",
      "   --------------- ------------------------ 30.7/81.5 MB 10.1 MB/s eta 0:00:06\n",
      "   --------------- ------------------------ 31.1/81.5 MB 10.1 MB/s eta 0:00:06\n",
      "   --------------- ------------------------ 31.5/81.5 MB 10.1 MB/s eta 0:00:05\n",
      "   --------------- ------------------------ 31.8/81.5 MB 10.1 MB/s eta 0:00:05\n",
      "   --------------- ------------------------ 31.8/81.5 MB 10.1 MB/s eta 0:00:05\n",
      "   --------------- ------------------------ 32.1/81.5 MB 9.5 MB/s eta 0:00:06\n",
      "   --------------- ------------------------ 32.5/81.5 MB 9.5 MB/s eta 0:00:06\n",
      "   ---------------- ----------------------- 32.9/81.5 MB 9.5 MB/s eta 0:00:06\n",
      "   ---------------- ----------------------- 33.3/81.5 MB 9.5 MB/s eta 0:00:06\n",
      "   ---------------- ----------------------- 33.8/81.5 MB 9.5 MB/s eta 0:00:06\n",
      "   ---------------- ----------------------- 34.2/81.5 MB 9.5 MB/s eta 0:00:05\n",
      "   ---------------- ----------------------- 34.6/81.5 MB 9.5 MB/s eta 0:00:05\n",
      "   ----------------- ---------------------- 35.0/81.5 MB 9.5 MB/s eta 0:00:05\n",
      "   ----------------- ---------------------- 35.5/81.5 MB 9.8 MB/s eta 0:00:05\n",
      "   ----------------- ---------------------- 35.9/81.5 MB 9.9 MB/s eta 0:00:05\n",
      "   ----------------- ---------------------- 36.3/81.5 MB 9.9 MB/s eta 0:00:05\n",
      "   ------------------ --------------------- 36.7/81.5 MB 9.8 MB/s eta 0:00:05\n",
      "   ------------------ --------------------- 37.2/81.5 MB 9.9 MB/s eta 0:00:05\n",
      "   ------------------ --------------------- 37.6/81.5 MB 9.9 MB/s eta 0:00:05\n",
      "   ------------------ --------------------- 38.0/81.5 MB 9.8 MB/s eta 0:00:05\n",
      "   ------------------ --------------------- 38.4/81.5 MB 10.4 MB/s eta 0:00:05\n",
      "   ------------------- -------------------- 38.9/81.5 MB 10.4 MB/s eta 0:00:05\n",
      "   ------------------- -------------------- 39.3/81.5 MB 10.4 MB/s eta 0:00:05\n",
      "   ------------------- -------------------- 39.7/81.5 MB 10.9 MB/s eta 0:00:04\n",
      "   ------------------- -------------------- 40.1/81.5 MB 10.9 MB/s eta 0:00:04\n",
      "   ------------------- -------------------- 40.5/81.5 MB 11.1 MB/s eta 0:00:04\n",
      "   -------------------- ------------------- 41.0/81.5 MB 10.9 MB/s eta 0:00:04\n",
      "   -------------------- ------------------- 41.4/81.5 MB 10.9 MB/s eta 0:00:04\n",
      "   -------------------- ------------------- 41.8/81.5 MB 11.1 MB/s eta 0:00:04\n",
      "   -------------------- ------------------- 42.2/81.5 MB 11.9 MB/s eta 0:00:04\n",
      "   -------------------- ------------------- 42.7/81.5 MB 11.7 MB/s eta 0:00:04\n",
      "   --------------------- ------------------ 43.1/81.5 MB 11.9 MB/s eta 0:00:04\n",
      "   --------------------- ------------------ 43.5/81.5 MB 11.9 MB/s eta 0:00:04\n",
      "   --------------------- ------------------ 43.9/81.5 MB 11.7 MB/s eta 0:00:04\n",
      "   --------------------- ------------------ 44.4/81.5 MB 11.7 MB/s eta 0:00:04\n",
      "   --------------------- ------------------ 44.8/81.5 MB 11.9 MB/s eta 0:00:04\n",
      "   ---------------------- ----------------- 45.2/81.5 MB 11.7 MB/s eta 0:00:04\n",
      "   ---------------------- ----------------- 45.6/81.5 MB 11.7 MB/s eta 0:00:04\n",
      "   ---------------------- ----------------- 46.0/81.5 MB 11.9 MB/s eta 0:00:03\n",
      "   ---------------------- ----------------- 46.5/81.5 MB 11.7 MB/s eta 0:00:03\n",
      "   ----------------------- ---------------- 46.9/81.5 MB 11.7 MB/s eta 0:00:03\n",
      "   ----------------------- ---------------- 47.3/81.5 MB 11.7 MB/s eta 0:00:03\n",
      "   ----------------------- ---------------- 47.7/81.5 MB 11.7 MB/s eta 0:00:03\n",
      "   ----------------------- ---------------- 48.2/81.5 MB 11.7 MB/s eta 0:00:03\n",
      "   ----------------------- ---------------- 48.6/81.5 MB 11.9 MB/s eta 0:00:03\n",
      "   ------------------------ --------------- 49.0/81.5 MB 11.9 MB/s eta 0:00:03\n",
      "   ------------------------ --------------- 49.4/81.5 MB 11.7 MB/s eta 0:00:03\n",
      "   ------------------------ --------------- 49.9/81.5 MB 11.7 MB/s eta 0:00:03\n",
      "   ------------------------ --------------- 50.3/81.5 MB 11.9 MB/s eta 0:00:03\n",
      "   ------------------------ --------------- 50.7/81.5 MB 11.7 MB/s eta 0:00:03\n",
      "   ------------------------- -------------- 51.1/81.5 MB 11.7 MB/s eta 0:00:03\n",
      "   ------------------------- -------------- 51.6/81.5 MB 11.9 MB/s eta 0:00:03\n",
      "   ------------------------- -------------- 52.0/81.5 MB 11.7 MB/s eta 0:00:03\n",
      "   ------------------------- -------------- 52.4/81.5 MB 11.7 MB/s eta 0:00:03\n",
      "   ------------------------- -------------- 52.8/81.5 MB 11.9 MB/s eta 0:00:03\n",
      "   -------------------------- ------------- 53.3/81.5 MB 11.9 MB/s eta 0:00:03\n",
      "   -------------------------- ------------- 53.7/81.5 MB 11.7 MB/s eta 0:00:03\n",
      "   -------------------------- ------------- 54.1/81.5 MB 11.7 MB/s eta 0:00:03\n",
      "   -------------------------- ------------- 54.5/81.5 MB 11.9 MB/s eta 0:00:03\n",
      "   -------------------------- ------------- 55.0/81.5 MB 11.7 MB/s eta 0:00:03\n",
      "   --------------------------- ------------ 55.4/81.5 MB 11.9 MB/s eta 0:00:03\n",
      "   --------------------------- ------------ 55.8/81.5 MB 11.9 MB/s eta 0:00:03\n",
      "   --------------------------- ------------ 56.2/81.5 MB 11.7 MB/s eta 0:00:03\n",
      "   --------------------------- ------------ 56.6/81.5 MB 11.7 MB/s eta 0:00:03\n",
      "   --------------------------- ------------ 56.6/81.5 MB 11.7 MB/s eta 0:00:03\n",
      "   --------------------------- ------------ 56.6/81.5 MB 11.7 MB/s eta 0:00:03\n",
      "   --------------------------- ------------ 56.6/81.5 MB 11.7 MB/s eta 0:00:03\n",
      "   ---------------------------- ----------- 58.3/81.5 MB 11.9 MB/s eta 0:00:02\n",
      "   ---------------------------- ----------- 58.8/81.5 MB 11.7 MB/s eta 0:00:02\n",
      "   ----------------------------- ---------- 59.2/81.5 MB 11.7 MB/s eta 0:00:02\n",
      "   ----------------------------- ---------- 59.6/81.5 MB 11.9 MB/s eta 0:00:02\n",
      "   ----------------------------- ---------- 60.1/81.5 MB 11.7 MB/s eta 0:00:02\n",
      "   ----------------------------- ---------- 60.5/81.5 MB 11.7 MB/s eta 0:00:02\n",
      "   ----------------------------- ---------- 60.9/81.5 MB 11.7 MB/s eta 0:00:02\n",
      "   ------------------------------ --------- 61.3/81.5 MB 11.7 MB/s eta 0:00:02\n",
      "   ------------------------------ --------- 61.8/81.5 MB 11.7 MB/s eta 0:00:02\n",
      "   ------------------------------ --------- 62.2/81.5 MB 11.7 MB/s eta 0:00:02\n",
      "   ------------------------------ --------- 62.6/81.5 MB 11.9 MB/s eta 0:00:02\n",
      "   ------------------------------ --------- 63.0/81.5 MB 11.7 MB/s eta 0:00:02\n",
      "   ------------------------------- -------- 63.4/81.5 MB 11.7 MB/s eta 0:00:02\n",
      "   ------------------------------- -------- 63.9/81.5 MB 11.9 MB/s eta 0:00:02\n",
      "   ------------------------------- -------- 64.3/81.5 MB 11.7 MB/s eta 0:00:02\n",
      "   ------------------------------- -------- 64.7/81.5 MB 11.7 MB/s eta 0:00:02\n",
      "   ------------------------------- -------- 65.1/81.5 MB 11.9 MB/s eta 0:00:02\n",
      "   -------------------------------- ------- 65.6/81.5 MB 11.7 MB/s eta 0:00:02\n",
      "   -------------------------------- ------- 66.0/81.5 MB 11.7 MB/s eta 0:00:02\n",
      "   -------------------------------- ------- 66.4/81.5 MB 11.7 MB/s eta 0:00:02\n",
      "   -------------------------------- ------- 66.8/81.5 MB 13.4 MB/s eta 0:00:02\n",
      "   --------------------------------- ------ 67.3/81.5 MB 13.1 MB/s eta 0:00:02\n",
      "   --------------------------------- ------ 67.7/81.5 MB 12.6 MB/s eta 0:00:02\n",
      "   --------------------------------- ------ 68.1/81.5 MB 11.9 MB/s eta 0:00:02\n",
      "   --------------------------------- ------ 68.6/81.5 MB 11.7 MB/s eta 0:00:02\n",
      "   --------------------------------- ------ 69.0/81.5 MB 11.9 MB/s eta 0:00:02\n",
      "   ---------------------------------- ----- 69.4/81.5 MB 11.7 MB/s eta 0:00:02\n",
      "   ---------------------------------- ----- 69.8/81.5 MB 11.7 MB/s eta 0:00:01\n",
      "   ---------------------------------- ----- 70.3/81.5 MB 11.7 MB/s eta 0:00:01\n",
      "   ---------------------------------- ----- 70.7/81.5 MB 11.9 MB/s eta 0:00:01\n",
      "   ---------------------------------- ----- 71.1/81.5 MB 11.7 MB/s eta 0:00:01\n",
      "   ----------------------------------- ---- 71.5/81.5 MB 11.9 MB/s eta 0:00:01\n",
      "   ----------------------------------- ---- 72.0/81.5 MB 11.9 MB/s eta 0:00:01\n",
      "   ----------------------------------- ---- 72.4/81.5 MB 11.7 MB/s eta 0:00:01\n",
      "   ----------------------------------- ---- 72.8/81.5 MB 11.9 MB/s eta 0:00:01\n",
      "   ----------------------------------- ---- 73.3/81.5 MB 11.9 MB/s eta 0:00:01\n",
      "   ------------------------------------ --- 73.7/81.5 MB 11.7 MB/s eta 0:00:01\n",
      "   ------------------------------------ --- 74.1/81.5 MB 11.7 MB/s eta 0:00:01\n",
      "   ------------------------------------ --- 74.5/81.5 MB 11.9 MB/s eta 0:00:01\n",
      "   ------------------------------------ --- 74.9/81.5 MB 11.7 MB/s eta 0:00:01\n",
      "   ------------------------------------- -- 75.4/81.5 MB 11.7 MB/s eta 0:00:01\n",
      "   ------------------------------------- -- 75.8/81.5 MB 11.9 MB/s eta 0:00:01\n",
      "   ------------------------------------- -- 76.2/81.5 MB 11.7 MB/s eta 0:00:01\n",
      "   ------------------------------------- -- 76.6/81.5 MB 11.7 MB/s eta 0:00:01\n",
      "   ------------------------------------- -- 77.1/81.5 MB 11.9 MB/s eta 0:00:01\n",
      "   -------------------------------------- - 77.5/81.5 MB 11.7 MB/s eta 0:00:01\n",
      "   -------------------------------------- - 77.9/81.5 MB 11.7 MB/s eta 0:00:01\n",
      "   -------------------------------------- - 78.3/81.5 MB 11.9 MB/s eta 0:00:01\n",
      "   -------------------------------------- - 78.8/81.5 MB 11.9 MB/s eta 0:00:01\n",
      "   -------------------------------------- - 79.2/81.5 MB 11.7 MB/s eta 0:00:01\n",
      "   ---------------------------------------  79.6/81.5 MB 11.9 MB/s eta 0:00:01\n",
      "   ---------------------------------------  80.1/81.5 MB 11.7 MB/s eta 0:00:01\n",
      "   ---------------------------------------  80.5/81.5 MB 11.7 MB/s eta 0:00:01\n",
      "   ---------------------------------------  80.9/81.5 MB 11.7 MB/s eta 0:00:01\n",
      "   ---------------------------------------  81.3/81.5 MB 11.9 MB/s eta 0:00:01\n",
      "   ---------------------------------------  81.5/81.5 MB 11.9 MB/s eta 0:00:01\n",
      "   ---------------------------------------  81.5/81.5 MB 11.9 MB/s eta 0:00:01\n",
      "   ---------------------------------------  81.5/81.5 MB 11.9 MB/s eta 0:00:01\n",
      "   ---------------------------------------  81.5/81.5 MB 11.9 MB/s eta 0:00:01\n",
      "   ---------------------------------------  81.5/81.5 MB 11.9 MB/s eta 0:00:01\n",
      "   ---------------------------------------- 81.5/81.5 MB 9.8 MB/s eta 0:00:00\n",
      "Downloading django_annoying-0.10.6-py2.py3-none-any.whl (9.5 kB)\n",
      "Downloading django_cors_headers-3.6.0-py3-none-any.whl (12 kB)\n",
      "Downloading django_csp-3.7-py2.py3-none-any.whl (17 kB)\n",
      "Downloading django_debug_toolbar-3.2.1-py3-none-any.whl (199 kB)\n",
      "   ---------------------------------------- 0.0/199.2 kB ? eta -:--:--\n",
      "   --------------------------------------- 199.2/199.2 kB 12.6 MB/s eta 0:00:00\n",
      "Downloading django_environ-0.10.0-py2.py3-none-any.whl (19 kB)\n",
      "Downloading django_extensions-3.1.0-py3-none-any.whl (222 kB)\n",
      "   ---------------------------------------- 0.0/222.0 kB ? eta -:--:--\n",
      "   ---------------------------------------- 222.0/222.0 kB 6.8 MB/s eta 0:00:00\n",
      "Downloading django_filter-2.4.0-py3-none-any.whl (73 kB)\n",
      "   ---------------------------------------- 0.0/73.2 kB ? eta -:--:--\n",
      "   ---------------------------------------- 73.2/73.2 kB 4.2 MB/s eta 0:00:00\n",
      "Downloading django_model_utils-4.1.1-py3-none-any.whl (32 kB)\n",
      "Downloading django_rq-2.5.1-py2.py3-none-any.whl (48 kB)\n",
      "   ---------------------------------------- 0.0/48.3 kB ? eta -:--:--\n",
      "   ---------------------------------------- 48.3/48.3 kB 2.4 MB/s eta 0:00:00\n",
      "Downloading django_storages-1.12.3-py3-none-any.whl (44 kB)\n",
      "   ---------------------------------------- 0.0/45.0 kB ? eta -:--:--\n",
      "   ---------------------------------------- 45.0/45.0 kB ? eta 0:00:00\n",
      "Downloading django_user_agents-0.4.0-py3-none-any.whl (8.6 kB)\n",
      "Downloading djangorestframework-3.13.1-py3-none-any.whl (958 kB)\n",
      "   ---------------------------------------- 0.0/958.3 kB ? eta -:--:--\n",
      "   ----------------- --------------------- 430.1/958.3 kB 13.1 MB/s eta 0:00:01\n",
      "   ----------------------------------- --- 860.2/958.3 kB 13.5 MB/s eta 0:00:01\n",
      "   --------------------------------------- 958.3/958.3 kB 12.2 MB/s eta 0:00:00\n",
      "Downloading drf_dynamic_fields-0.3.0-py2.py3-none-any.whl (6.6 kB)\n",
      "Downloading jsonschema-3.2.0-py2.py3-none-any.whl (56 kB)\n",
      "   ---------------------------------------- 0.0/56.3 kB ? eta -:--:--\n",
      "   ---------------------------------------- 56.3/56.3 kB 2.9 MB/s eta 0:00:00\n",
      "Downloading label_studio_converter-0.0.58-py3-none-any.whl (46 kB)\n",
      "   ---------------------------------------- 0.0/47.0 kB ? eta -:--:--\n",
      "   ---------------------------------------- 47.0/47.0 kB ? eta 0:00:00\n",
      "Downloading launchdarkly_server_sdk-8.2.1-py3-none-any.whl (171 kB)\n",
      "   ---------------------------------------- 0.0/172.0 kB ? eta -:--:--\n",
      "   --------------------------------------- 172.0/172.0 kB 10.1 MB/s eta 0:00:00\n",
      "Downloading psycopg2_binary-2.9.6-cp310-cp310-win_amd64.whl (1.2 MB)\n",
      "   ---------------------------------------- 0.0/1.2 MB ? eta -:--:--\n",
      "   --------------- ------------------------ 0.5/1.2 MB 14.2 MB/s eta 0:00:01\n",
      "   ------------------------------ --------- 0.9/1.2 MB 14.0 MB/s eta 0:00:01\n",
      "   ---------------------------------------- 1.2/1.2 MB 12.2 MB/s eta 0:00:00\n",
      "Downloading rq-1.10.1-py2.py3-none-any.whl (70 kB)\n",
      "   ---------------------------------------- 0.0/70.4 kB ? eta -:--:--\n",
      "   ---------------------------------------- 70.4/70.4 kB ? eta 0:00:00\n",
      "Downloading xmljson-0.2.0-py2.py3-none-any.whl (14 kB)\n",
      "Downloading nltk-3.6.7-py3-none-any.whl (1.5 MB)\n",
      "   ---------------------------------------- 0.0/1.5 MB ? eta -:--:--\n",
      "   ----------- ---------------------------- 0.4/1.5 MB 13.2 MB/s eta 0:00:01\n",
      "   ----------------------- ---------------- 0.9/1.5 MB 10.9 MB/s eta 0:00:01\n",
      "   ---------------------------------- ----- 1.3/1.5 MB 11.6 MB/s eta 0:00:01\n",
      "   ---------------------------------------- 1.5/1.5 MB 11.9 MB/s eta 0:00:00\n",
      "Downloading azure_storage_blob-12.20.0-py3-none-any.whl (392 kB)\n",
      "   ---------------------------------------- 0.0/392.2 kB ? eta -:--:--\n",
      "   --------------------------------------  389.1/392.2 kB 12.2 MB/s eta 0:00:01\n",
      "   --------------------------------------- 392.2/392.2 kB 12.3 MB/s eta 0:00:00\n",
      "Downloading boto-2.49.0-py2.py3-none-any.whl (1.4 MB)\n",
      "   ---------------------------------------- 0.0/1.4 MB ? eta -:--:--\n",
      "   ------------ --------------------------- 0.4/1.4 MB 13.5 MB/s eta 0:00:01\n",
      "   ------------------------- -------------- 0.8/1.4 MB 13.3 MB/s eta 0:00:01\n",
      "   ------------------------------------- -- 1.3/1.4 MB 11.6 MB/s eta 0:00:01\n",
      "   ---------------------------------------- 1.4/1.4 MB 10.8 MB/s eta 0:00:00\n",
      "Downloading boto3-1.34.106-py3-none-any.whl (139 kB)\n",
      "   ---------------------------------------- 0.0/139.3 kB ? eta -:--:--\n",
      "   ---------------------------------------- 139.3/139.3 kB 8.6 MB/s eta 0:00:00\n",
      "Downloading botocore-1.34.106-py3-none-any.whl (12.2 MB)\n",
      "   ---------------------------------------- 0.0/12.2 MB ? eta -:--:--\n",
      "   - -------------------------------------- 0.4/12.2 MB 13.2 MB/s eta 0:00:01\n",
      "   -- ------------------------------------- 0.9/12.2 MB 10.9 MB/s eta 0:00:02\n",
      "   ---- ----------------------------------- 1.3/12.2 MB 11.6 MB/s eta 0:00:01\n",
      "   ----- ---------------------------------- 1.7/12.2 MB 12.1 MB/s eta 0:00:01\n",
      "   ------ --------------------------------- 2.1/12.2 MB 11.3 MB/s eta 0:00:01\n",
      "   -------- ------------------------------- 2.5/12.2 MB 11.6 MB/s eta 0:00:01\n",
      "   --------- ------------------------------ 3.0/12.2 MB 11.9 MB/s eta 0:00:01\n",
      "   ----------- ---------------------------- 3.4/12.2 MB 11.4 MB/s eta 0:00:01\n",
      "   ------------ --------------------------- 3.8/12.2 MB 11.6 MB/s eta 0:00:01\n",
      "   ------------- -------------------------- 4.3/12.2 MB 11.9 MB/s eta 0:00:01\n",
      "   --------------- ------------------------ 4.6/12.2 MB 11.9 MB/s eta 0:00:01\n",
      "   ---------------- ----------------------- 5.1/12.2 MB 11.6 MB/s eta 0:00:01\n",
      "   ------------------ --------------------- 5.5/12.2 MB 11.8 MB/s eta 0:00:01\n",
      "   ------------------- -------------------- 5.9/12.2 MB 11.9 MB/s eta 0:00:01\n",
      "   -------------------- ------------------- 6.4/12.2 MB 11.6 MB/s eta 0:00:01\n",
      "   ---------------------- ----------------- 6.8/12.2 MB 11.7 MB/s eta 0:00:01\n",
      "   ----------------------- ---------------- 7.2/12.2 MB 11.8 MB/s eta 0:00:01\n",
      "   ------------------------- -------------- 7.6/12.2 MB 11.6 MB/s eta 0:00:01\n",
      "   -------------------------- ------------- 8.1/12.2 MB 11.8 MB/s eta 0:00:01\n",
      "   --------------------------- ------------ 8.5/12.2 MB 11.8 MB/s eta 0:00:01\n",
      "   ----------------------------- ---------- 8.9/12.2 MB 11.6 MB/s eta 0:00:01\n",
      "   ------------------------------ --------- 9.3/12.2 MB 11.7 MB/s eta 0:00:01\n",
      "   ------------------------------- -------- 9.8/12.2 MB 11.8 MB/s eta 0:00:01\n",
      "   --------------------------------- ------ 10.2/12.2 MB 11.6 MB/s eta 0:00:01\n",
      "   ---------------------------------- ----- 10.6/12.2 MB 11.7 MB/s eta 0:00:01\n",
      "   ------------------------------------ --- 11.0/12.2 MB 11.9 MB/s eta 0:00:01\n",
      "   ------------------------------------- -- 11.5/12.2 MB 11.7 MB/s eta 0:00:01\n",
      "   -------------------------------------- - 11.9/12.2 MB 11.7 MB/s eta 0:00:01\n",
      "   ---------------------------------------  12.2/12.2 MB 11.7 MB/s eta 0:00:01\n",
      "   ---------------------------------------- 12.2/12.2 MB 11.3 MB/s eta 0:00:00\n",
      "Downloading boxing-0.1.4-py3-none-any.whl (3.9 kB)\n",
      "Downloading Django-3.2.25-py3-none-any.whl (7.9 MB)\n",
      "   ---------------------------------------- 0.0/7.9 MB ? eta -:--:--\n",
      "   -- ------------------------------------- 0.4/7.9 MB 12.5 MB/s eta 0:00:01\n",
      "   --- ------------------------------------ 0.8/7.9 MB 12.0 MB/s eta 0:00:01\n",
      "   ----- ---------------------------------- 1.2/7.9 MB 10.4 MB/s eta 0:00:01\n",
      "   -------- ------------------------------- 1.6/7.9 MB 11.3 MB/s eta 0:00:01\n",
      "   ---------- ----------------------------- 2.0/7.9 MB 10.7 MB/s eta 0:00:01\n",
      "   ------------ --------------------------- 2.4/7.9 MB 11.1 MB/s eta 0:00:01\n",
      "   -------------- ------------------------- 2.9/7.9 MB 11.5 MB/s eta 0:00:01\n",
      "   ---------------- ----------------------- 3.3/7.9 MB 11.7 MB/s eta 0:00:01\n",
      "   ------------------ --------------------- 3.7/7.9 MB 11.3 MB/s eta 0:00:01\n",
      "   --------------------- ------------------ 4.2/7.9 MB 11.5 MB/s eta 0:00:01\n",
      "   ----------------------- ---------------- 4.6/7.9 MB 11.6 MB/s eta 0:00:01\n",
      "   ------------------------- -------------- 5.0/7.9 MB 11.4 MB/s eta 0:00:01\n",
      "   --------------------------- ------------ 5.4/7.9 MB 11.6 MB/s eta 0:00:01\n",
      "   ----------------------------- ---------- 5.8/7.9 MB 11.7 MB/s eta 0:00:01\n",
      "   ------------------------------- -------- 6.3/7.9 MB 11.4 MB/s eta 0:00:01\n",
      "   --------------------------------- ------ 6.7/7.9 MB 11.5 MB/s eta 0:00:01\n",
      "   ----------------------------------- ---- 7.1/7.9 MB 11.6 MB/s eta 0:00:01\n",
      "   -------------------------------------- - 7.5/7.9 MB 11.7 MB/s eta 0:00:01\n",
      "   ---------------------------------------  7.9/7.9 MB 11.7 MB/s eta 0:00:01\n",
      "   ---------------------------------------- 7.9/7.9 MB 11.2 MB/s eta 0:00:00\n",
      "Downloading google_cloud_logging-3.10.0-py2.py3-none-any.whl (213 kB)\n",
      "   ---------------------------------------- 0.0/213.4 kB ? eta -:--:--\n",
      "   --------------------------------------- 213.4/213.4 kB 13.5 MB/s eta 0:00:00\n",
      "Downloading google_cloud_storage-2.16.0-py2.py3-none-any.whl (125 kB)\n",
      "   ---------------------------------------- 0.0/125.6 kB ? eta -:--:--\n",
      "   ---------------------------------------- 125.6/125.6 kB 7.7 MB/s eta 0:00:00\n",
      "Downloading humansignal_drf_yasg-1.21.9-py3-none-any.whl (4.3 MB)\n",
      "   ---------------------------------------- 0.0/4.3 MB ? eta -:--:--\n",
      "   --- ------------------------------------ 0.4/4.3 MB 13.2 MB/s eta 0:00:01\n",
      "   -------- ------------------------------- 0.9/4.3 MB 13.7 MB/s eta 0:00:01\n",
      "   ----------- ---------------------------- 1.3/4.3 MB 11.6 MB/s eta 0:00:01\n",
      "   --------------- ------------------------ 1.7/4.3 MB 12.1 MB/s eta 0:00:01\n",
      "   ------------------- -------------------- 2.1/4.3 MB 12.4 MB/s eta 0:00:01\n",
      "   ----------------------- ---------------- 2.5/4.3 MB 12.4 MB/s eta 0:00:01\n",
      "   --------------------------- ------------ 3.0/4.3 MB 11.8 MB/s eta 0:00:01\n",
      "   ------------------------------- -------- 3.4/4.3 MB 12.0 MB/s eta 0:00:01\n",
      "   ----------------------------------- ---- 3.8/4.3 MB 12.1 MB/s eta 0:00:01\n",
      "   ---------------------------------------  4.2/4.3 MB 11.8 MB/s eta 0:00:01\n",
      "   ---------------------------------------- 4.3/4.3 MB 11.0 MB/s eta 0:00:00\n",
      "Downloading lockfile-0.12.2-py2.py3-none-any.whl (13 kB)\n",
      "Downloading openai-1.30.1-py3-none-any.whl (320 kB)\n",
      "   ---------------------------------------- 0.0/320.6 kB ? eta -:--:--\n",
      "   --------------------------------------- 320.6/320.6 kB 10.0 MB/s eta 0:00:00\n",
      "Downloading redis-3.5.3-py2.py3-none-any.whl (72 kB)\n",
      "   ---------------------------------------- 0.0/72.1 kB ? eta -:--:--\n",
      "   ---------------------------------------- 72.1/72.1 kB 4.1 MB/s eta 0:00:00\n",
      "Downloading sentry_sdk-2.2.0-py2.py3-none-any.whl (281 kB)\n",
      "   ---------------------------------------- 0.0/281.1 kB ? eta -:--:--\n",
      "   --------------------------------------- 281.1/281.1 kB 16.9 MB/s eta 0:00:00\n",
      "Downloading urllib3-1.26.18-py2.py3-none-any.whl (143 kB)\n",
      "   ---------------------------------------- 0.0/143.8 kB ? eta -:--:--\n",
      "   ---------------------------------------- 143.8/143.8 kB 8.3 MB/s eta 0:00:00\n",
      "Downloading wheel-0.40.0-py3-none-any.whl (64 kB)\n",
      "   ---------------------------------------- 0.0/64.5 kB ? eta -:--:--\n",
      "   ---------------------------------------- 64.5/64.5 kB 3.4 MB/s eta 0:00:00\n",
      "Downloading asgiref-3.8.1-py3-none-any.whl (23 kB)\n",
      "Downloading azure_core-1.30.1-py3-none-any.whl (193 kB)\n",
      "   ---------------------------------------- 0.0/193.4 kB ? eta -:--:--\n",
      "   --------------------------------------- 193.4/193.4 kB 11.4 MB/s eta 0:00:00\n",
      "Downloading distro-1.9.0-py3-none-any.whl (20 kB)\n",
      "Downloading expiringdict-1.2.2-py3-none-any.whl (8.5 kB)\n",
      "Downloading google_api_core-2.19.0-py3-none-any.whl (139 kB)\n",
      "   ---------------------------------------- 0.0/139.0 kB ? eta -:--:--\n",
      "   ---------------------------------------- 139.0/139.0 kB 8.6 MB/s eta 0:00:00\n",
      "Downloading google_cloud_appengine_logging-1.4.3-py2.py3-none-any.whl (15 kB)\n",
      "Downloading google_cloud_audit_log-0.2.5-py2.py3-none-any.whl (12 kB)\n",
      "Downloading google_cloud_core-2.4.1-py2.py3-none-any.whl (29 kB)\n",
      "Downloading google_crc32c-1.5.0-cp310-cp310-win_amd64.whl (27 kB)\n",
      "Downloading google_resumable_media-2.7.0-py2.py3-none-any.whl (80 kB)\n",
      "   ---------------------------------------- 0.0/80.6 kB ? eta -:--:--\n",
      "   ---------------------------------------- 80.6/80.6 kB 4.4 MB/s eta 0:00:00\n",
      "Downloading grpc_google_iam_v1-0.13.0-py2.py3-none-any.whl (25 kB)\n",
      "Downloading ijson-3.2.3-cp310-cp310-win_amd64.whl (48 kB)\n",
      "   ---------------------------------------- 0.0/48.2 kB ? eta -:--:--\n",
      "   ---------------------------------------- 48.2/48.2 kB 2.4 MB/s eta 0:00:00\n",
      "Downloading isodate-0.6.1-py2.py3-none-any.whl (41 kB)\n",
      "   ---------------------------------------- 0.0/41.7 kB ? eta -:--:--\n",
      "   ---------------------------------------- 41.7/41.7 kB 2.1 MB/s eta 0:00:00\n",
      "Downloading label_studio_tools-0.0.4-py3-none-any.whl (16 kB)\n",
      "Downloading proto_plus-1.23.0-py3-none-any.whl (48 kB)\n",
      "   ---------------------------------------- 0.0/48.8 kB ? eta -:--:--\n",
      "   ---------------------------------------- 48.8/48.8 kB ? eta 0:00:00\n",
      "Downloading pyRFC3339-1.1-py2.py3-none-any.whl (5.7 kB)\n",
      "Downloading s3transfer-0.10.1-py3-none-any.whl (82 kB)\n",
      "   ---------------------------------------- 0.0/82.2 kB ? eta -:--:--\n",
      "   ---------------------------------------- 82.2/82.2 kB 4.5 MB/s eta 0:00:00\n",
      "Downloading sqlparse-0.5.0-py3-none-any.whl (43 kB)\n",
      "   ---------------------------------------- 0.0/44.0 kB ? eta -:--:--\n",
      "   ---------------------------------------- 44.0/44.0 kB ? eta 0:00:00\n",
      "Downloading uritemplate-4.1.1-py2.py3-none-any.whl (10 kB)\n",
      "Downloading user_agents-2.2.0-py3-none-any.whl (9.6 kB)\n",
      "Downloading googleapis_common_protos-1.63.0-py2.py3-none-any.whl (229 kB)\n",
      "   ---------------------------------------- 0.0/229.1 kB ? eta -:--:--\n",
      "   ---------------------------------------- 229.1/229.1 kB 6.8 MB/s eta 0:00:00\n",
      "Downloading grpcio_status-1.62.2-py3-none-any.whl (14 kB)\n",
      "Downloading grpcio-1.63.0-cp310-cp310-win_amd64.whl (3.9 MB)\n",
      "   ---------------------------------------- 0.0/3.9 MB ? eta -:--:--\n",
      "   ---- ----------------------------------- 0.4/3.9 MB 13.5 MB/s eta 0:00:01\n",
      "   -------- ------------------------------- 0.9/3.9 MB 13.5 MB/s eta 0:00:01\n",
      "   ------------- -------------------------- 1.3/3.9 MB 13.4 MB/s eta 0:00:01\n",
      "   ----------------- ---------------------- 1.7/3.9 MB 11.8 MB/s eta 0:00:01\n",
      "   --------------------- ------------------ 2.1/3.9 MB 12.3 MB/s eta 0:00:01\n",
      "   -------------------------- ------------- 2.5/3.9 MB 12.5 MB/s eta 0:00:01\n",
      "   ------------------------------ --------- 3.0/3.9 MB 11.8 MB/s eta 0:00:01\n",
      "   ---------------------------------- ----- 3.4/3.9 MB 12.1 MB/s eta 0:00:01\n",
      "   ---------------------------------------  3.8/3.9 MB 12.2 MB/s eta 0:00:01\n",
      "   ---------------------------------------- 3.9/3.9 MB 11.3 MB/s eta 0:00:00\n",
      "Downloading ua_parser-0.18.0-py2.py3-none-any.whl (38 kB)\n",
      "Building wheels for collected packages: attr, drf-flex-fields, drf-generators, htmlmin, ordered-set, rules, django-ranged-fileresponse\n",
      "  Building wheel for attr (setup.py): started\n",
      "  Building wheel for attr (setup.py): finished with status 'done'\n",
      "  Created wheel for attr: filename=attr-0.3.1-py3-none-any.whl size=2453 sha256=c09340d13154b732ff54d524c09b356dc3d01f92e637269abd4483cf2df72f26\n",
      "  Stored in directory: c:\\users\\рост\\appdata\\local\\pip\\cache\\wheels\\77\\f7\\fa\\f3c975647897f6c458743646f9e987ab5bad62924d30284726\n",
      "  Building wheel for drf-flex-fields (setup.py): started\n",
      "  Building wheel for drf-flex-fields (setup.py): finished with status 'done'\n",
      "  Created wheel for drf-flex-fields: filename=drf_flex_fields-0.9.5-py3-none-any.whl size=14467 sha256=6b084a2171bd2c615935f9e65f5c6ca06ea1feba7efd2ce867a1bef9b6cee035\n",
      "  Stored in directory: c:\\users\\рост\\appdata\\local\\pip\\cache\\wheels\\a7\\c7\\cd\\d1c736f1f97603c2ad223db5689c9b9603c2d53890fe156fc8\n",
      "  Building wheel for drf-generators (setup.py): started\n",
      "  Building wheel for drf-generators (setup.py): finished with status 'done'\n",
      "  Created wheel for drf-generators: filename=drf_generators-0.3.0-py2.py3-none-any.whl size=9807 sha256=115ec1e948dcb3473882af971b1d4065841eccdb7d53ca011c439613746bc3ad\n",
      "  Stored in directory: c:\\users\\рост\\appdata\\local\\pip\\cache\\wheels\\bd\\b0\\47\\0389db14737660b01d4b8fd891921ef143296b8cce62fcbef5\n",
      "  Building wheel for htmlmin (setup.py): started\n",
      "  Building wheel for htmlmin (setup.py): finished with status 'done'\n",
      "  Created wheel for htmlmin: filename=htmlmin-0.1.12-py3-none-any.whl size=27092 sha256=daff392d0f6c52ddeffab39d39cdfac212f2a31cd7e8ca5ec702eb8a1a46a3b9\n",
      "  Stored in directory: c:\\users\\рост\\appdata\\local\\pip\\cache\\wheels\\dd\\91\\29\\a79cecb328d01739e64017b6fb9a1ab9d8cb1853098ec5966d\n",
      "  Building wheel for ordered-set (setup.py): started\n",
      "  Building wheel for ordered-set (setup.py): finished with status 'done'\n",
      "  Created wheel for ordered-set: filename=ordered_set-4.0.2-py2.py3-none-any.whl size=8246 sha256=070e36cfe59f1cbf265dcc8f0499e22221c3bbe40ddff808fdd2ebfad8a7c3b6\n",
      "  Stored in directory: c:\\users\\рост\\appdata\\local\\pip\\cache\\wheels\\a0\\7b\\e7\\13d20d03563090b0f5a6450dc297cd6d8583358e3755670da6\n",
      "  Building wheel for rules (setup.py): started\n",
      "  Building wheel for rules (setup.py): finished with status 'done'\n",
      "  Created wheel for rules: filename=rules-2.2-py2.py3-none-any.whl size=25965 sha256=a9e67851dd4a78edb411092bcf9e90b11ff1e9e0ed36a8f6b0194bb371fed5b1\n",
      "  Stored in directory: c:\\users\\рост\\appdata\\local\\pip\\cache\\wheels\\08\\43\\28\\3a8f0f0100d724be7edb32d67140297268d83ad2718ce19b46\n",
      "  Building wheel for django-ranged-fileresponse (setup.py): started\n",
      "  Building wheel for django-ranged-fileresponse (setup.py): finished with status 'done'\n",
      "  Created wheel for django-ranged-fileresponse: filename=django_ranged_fileresponse-0.1.2-py3-none-any.whl size=3236 sha256=1c93fa7add463af9ebb5f5280d77da223a849156bb015fff83f418f5f17fc846\n",
      "  Stored in directory: c:\\users\\рост\\appdata\\local\\pip\\cache\\wheels\\0a\\39\\8d\\3e779f86f962b817d1acce58407c5a68385da4f77d73fc1a97\n",
      "Successfully built attr drf-flex-fields drf-generators htmlmin ordered-set rules django-ranged-fileresponse\n",
      "Installing collected packages: xmljson, ua-parser, rules, lockfile, ijson, htmlmin, expiringdict, drf-flex-fields, drf-dynamic-fields, django-ranged-fileresponse, boxing, boto, attr, wheel, user-agents, urllib3, uritemplate, sqlparse, redis, pyRFC3339, psycopg2-binary, proto-plus, ordered-set, label-studio-tools, jsonschema, isodate, grpcio, googleapis-common-protos, google-crc32c, django-extensions, django-environ, distro, asgiref, sentry-sdk, rq, nltk, launchdarkly-server-sdk, grpcio-status, google-resumable-media, google-cloud-audit-log, Django, botocore, s3transfer, openai, label-studio-converter, grpc-google-iam-v1, google-api-core, drf-generators, djangorestframework, django-user-agents, django-storages, django-rq, django-model-utils, django-filter, django-debug-toolbar, django-csp, django-cors-headers, django-annoying, azure-core, humansignal-drf-yasg, google-cloud-core, boto3, azure-storage-blob, google-cloud-storage, google-cloud-appengine-logging, google-cloud-logging, label-studio\n",
      "  Attempting uninstall: wheel\n",
      "    Found existing installation: wheel 0.43.0\n",
      "    Uninstalling wheel-0.43.0:\n",
      "      Successfully uninstalled wheel-0.43.0\n",
      "  Attempting uninstall: urllib3\n",
      "    Found existing installation: urllib3 1.26.7\n",
      "    Uninstalling urllib3-1.26.7:\n",
      "      Successfully uninstalled urllib3-1.26.7\n",
      "  Attempting uninstall: jsonschema\n",
      "    Found existing installation: jsonschema 4.21.1\n",
      "    Uninstalling jsonschema-4.21.1:\n",
      "      Successfully uninstalled jsonschema-4.21.1\n",
      "  Attempting uninstall: grpcio\n",
      "    Found existing installation: grpcio 1.62.1\n",
      "    Uninstalling grpcio-1.62.1:\n",
      "      Successfully uninstalled grpcio-1.62.1\n",
      "  Attempting uninstall: nltk\n",
      "    Found existing installation: nltk 3.7\n",
      "    Uninstalling nltk-3.7:\n",
      "      Successfully uninstalled nltk-3.7\n",
      "Successfully installed Django-3.2.25 asgiref-3.8.1 attr-0.3.1 azure-core-1.30.1 azure-storage-blob-12.20.0 boto-2.49.0 boto3-1.34.106 botocore-1.34.106 boxing-0.1.4 distro-1.9.0 django-annoying-0.10.6 django-cors-headers-3.6.0 django-csp-3.7 django-debug-toolbar-3.2.1 django-environ-0.10.0 django-extensions-3.1.0 django-filter-2.4.0 django-model-utils-4.1.1 django-ranged-fileresponse-0.1.2 django-rq-2.5.1 django-storages-1.12.3 django-user-agents-0.4.0 djangorestframework-3.13.1 drf-dynamic-fields-0.3.0 drf-flex-fields-0.9.5 drf-generators-0.3.0 expiringdict-1.2.2 google-api-core-2.19.0 google-cloud-appengine-logging-1.4.3 google-cloud-audit-log-0.2.5 google-cloud-core-2.4.1 google-cloud-logging-3.10.0 google-cloud-storage-2.16.0 google-crc32c-1.5.0 google-resumable-media-2.7.0 googleapis-common-protos-1.63.0 grpc-google-iam-v1-0.13.0 grpcio-1.63.0 grpcio-status-1.62.2 htmlmin-0.1.12 humansignal-drf-yasg-1.21.9 ijson-3.2.3 isodate-0.6.1 jsonschema-3.2.0 label-studio-1.12.0.post0 label-studio-converter-0.0.58 label-studio-tools-0.0.4 launchdarkly-server-sdk-8.2.1 lockfile-0.12.2 nltk-3.6.7 openai-1.30.1 ordered-set-4.0.2 proto-plus-1.23.0 psycopg2-binary-2.9.6 pyRFC3339-1.1 redis-3.5.3 rq-1.10.1 rules-2.2 s3transfer-0.10.1 sentry-sdk-2.2.0 sqlparse-0.5.0 ua-parser-0.18.0 uritemplate-4.1.1 urllib3-1.26.14 user-agents-2.2.0 wheel-0.38.4 xmljson-0.2.0\n"
     ]
    },
    {
     "name": "stderr",
     "output_type": "stream",
     "text": [
      "ERROR: pip's dependency resolver does not currently take into account all the packages that are installed. This behaviour is the source of the following dependency conflicts.\n",
      "jupyter-events 0.10.0 requires jsonschema[format-nongpl]>=4.18.0, but you have jsonschema 3.2.0 which is incompatible.\n",
      "jupyterlab-server 2.25.4 requires jsonschema>=4.18.0, but you have jsonschema 3.2.0 which is incompatible.\n",
      "conda-repo-cli 1.0.27 requires clyent==1.2.1, but you have clyent 1.2.2 which is incompatible.\n",
      "conda-repo-cli 1.0.27 requires nbformat==5.4.0, but you have nbformat 5.7.3 which is incompatible.\n",
      "conda-repo-cli 1.0.27 requires requests==2.28.1, but you have requests 2.31.0 which is incompatible.\n",
      "distributed 2022.7.0 requires tornado<6.2,>=6.0.3, but you have tornado 6.2 which is incompatible.\n",
      "spyder 5.4.1 requires qtconsole<5.5.0,>=5.4.0, but you have qtconsole 5.5.1 which is incompatible.\n"
     ]
    },
    {
     "name": "stdout",
     "output_type": "stream",
     "text": [
      "Requirement already satisfied: matplotlib in c:\\anaconda\\lib\\site-packages (3.7.0)\n",
      "Requirement already satisfied: contourpy>=1.0.1 in c:\\anaconda\\lib\\site-packages (from matplotlib) (1.0.5)\n",
      "Requirement already satisfied: cycler>=0.10 in c:\\anaconda\\lib\\site-packages (from matplotlib) (0.11.0)\n",
      "Requirement already satisfied: fonttools>=4.22.0 in c:\\anaconda\\lib\\site-packages (from matplotlib) (4.25.0)\n",
      "Requirement already satisfied: kiwisolver>=1.0.1 in c:\\anaconda\\lib\\site-packages (from matplotlib) (1.4.4)\n",
      "Requirement already satisfied: numpy>=1.20 in c:\\users\\рост\\appdata\\roaming\\python\\python310\\site-packages (from matplotlib) (1.24.4)\n",
      "Requirement already satisfied: packaging>=20.0 in c:\\anaconda\\lib\\site-packages (from matplotlib) (22.0)\n",
      "Requirement already satisfied: pillow>=6.2.0 in c:\\anaconda\\lib\\site-packages (from matplotlib) (10.2.0)\n",
      "Requirement already satisfied: pyparsing>=2.3.1 in c:\\anaconda\\lib\\site-packages (from matplotlib) (3.0.9)\n",
      "Requirement already satisfied: python-dateutil>=2.7 in c:\\anaconda\\lib\\site-packages (from matplotlib) (2.8.2)\n",
      "Requirement already satisfied: six>=1.5 in c:\\anaconda\\lib\\site-packages (from python-dateutil>=2.7->matplotlib) (1.16.0)\n",
      "Collecting wget\n",
      "  Downloading wget-3.2.zip (10 kB)\n",
      "  Preparing metadata (setup.py): started\n",
      "  Preparing metadata (setup.py): finished with status 'done'\n",
      "Building wheels for collected packages: wget\n",
      "  Building wheel for wget (setup.py): started\n",
      "  Building wheel for wget (setup.py): finished with status 'done'\n",
      "  Created wheel for wget: filename=wget-3.2-py3-none-any.whl size=9681 sha256=ce50e976d429add838f2f6a682d4d8b00c7f9683c8ce6252a852e900c08aba47\n",
      "  Stored in directory: c:\\users\\рост\\appdata\\local\\pip\\cache\\wheels\\8b\\f1\\7f\\5c94f0a7a505ca1c81cd1d9208ae2064675d97582078e6c769\n",
      "Successfully built wget\n",
      "Installing collected packages: wget\n",
      "Successfully installed wget-3.2\n"
     ]
    }
   ],
   "source": [
    "# Устанавливаем пакеты, если они не установлены\n",
    "!pip install pandas\n",
    "!pip install nltk\n",
    "!pip install scikit-learn\n",
    "!pip install label-studio\n",
    "!pip install matplotlib\n",
    "!pip install wget"
   ]
  },
  {
   "cell_type": "code",
   "execution_count": 2,
   "id": "a62ab52d-c7f3-408f-99f8-550b53ff2a16",
   "metadata": {
    "ExecuteTime": {
     "end_time": "2024-04-15T13:44:04.952159Z",
     "start_time": "2024-04-15T13:43:57.952664Z"
    }
   },
   "outputs": [
    {
     "name": "stderr",
     "output_type": "stream",
     "text": [
      "[nltk_data] Downloading package punkt to\n",
      "[nltk_data]     C:\\Users\\рост\\AppData\\Roaming\\nltk_data...\n",
      "[nltk_data]   Unzipping tokenizers\\punkt.zip.\n"
     ]
    }
   ],
   "source": [
    "import pandas as pd\n",
    "import nltk\n",
    "# Загружаем предобученную модель токенизации текста\n",
    "nltk.download('punkt')\n",
    "import csv\n",
    "import os\n",
    "import wget\n",
    "from sklearn.utils import shuffle\n",
    "from sklearn.model_selection import train_test_split\n",
    "import matplotlib\n",
    "from sklearn.preprocessing import LabelEncoder\n",
    "from sklearn.feature_extraction.text import TfidfVectorizer\n",
    "from sklearn.linear_model import LogisticRegression\n",
    "import numpy as np\n",
    "from sklearn.metrics import f1_score"
   ]
  },
  {
   "cell_type": "markdown",
   "id": "0160061d-615a-4ae2-ac2f-bcb9aa34da56",
   "metadata": {},
   "source": [
    "## Загрузка датасетов"
   ]
  },
  {
   "cell_type": "markdown",
   "id": "f40eaed7-caaf-42be-b591-67b5f521ace5",
   "metadata": {},
   "source": [
    "###  Загрузка датасета новостей lenta.ru"
   ]
  },
  {
   "cell_type": "code",
   "execution_count": 3,
   "id": "ec0b04ee-33cd-4eaa-97c5-2e1f7a701080",
   "metadata": {
    "ExecuteTime": {
     "end_time": "2024-04-15T13:44:30.014432Z",
     "start_time": "2024-04-15T13:44:29.836317Z"
    }
   },
   "outputs": [],
   "source": [
    "# Загрузим датасет с новостями с lenta.ru\n",
    "news = pd.read_csv('./csv/news_lenta_ru.csv', engine='python', on_bad_lines='skip')"
   ]
  },
  {
   "cell_type": "code",
   "execution_count": 4,
   "id": "711ed40b-aed3-416c-8c6a-bea46e0ecf73",
   "metadata": {
    "ExecuteTime": {
     "end_time": "2024-04-15T13:44:32.315051Z",
     "start_time": "2024-04-15T13:44:32.285541Z"
    }
   },
   "outputs": [
    {
     "data": {
      "text/html": [
       "<div>\n",
       "<style scoped>\n",
       "    .dataframe tbody tr th:only-of-type {\n",
       "        vertical-align: middle;\n",
       "    }\n",
       "\n",
       "    .dataframe tbody tr th {\n",
       "        vertical-align: top;\n",
       "    }\n",
       "\n",
       "    .dataframe thead th {\n",
       "        text-align: right;\n",
       "    }\n",
       "</style>\n",
       "<table border=\"1\" class=\"dataframe\">\n",
       "  <thead>\n",
       "    <tr style=\"text-align: right;\">\n",
       "      <th></th>\n",
       "      <th>url</th>\n",
       "      <th>title</th>\n",
       "      <th>text</th>\n",
       "      <th>topic</th>\n",
       "      <th>tags</th>\n",
       "    </tr>\n",
       "  </thead>\n",
       "  <tbody>\n",
       "    <tr>\n",
       "      <th>0</th>\n",
       "      <td>https://lenta.ru/news/1914/09/16/hungarnn/</td>\n",
       "      <td>1914. Русские войска вступили в пределы Венгрии</td>\n",
       "      <td>Бои у Сопоцкина и Друскеник закончились отступ...</td>\n",
       "      <td>Библиотека</td>\n",
       "      <td>Первая мировая</td>\n",
       "    </tr>\n",
       "    <tr>\n",
       "      <th>1</th>\n",
       "      <td>https://lenta.ru/news/1914/09/16/lermontov/</td>\n",
       "      <td>1914. Празднование столетия М.Ю. Лермонтова от...</td>\n",
       "      <td>Министерство народного просвещения, в виду про...</td>\n",
       "      <td>Библиотека</td>\n",
       "      <td>Первая мировая</td>\n",
       "    </tr>\n",
       "    <tr>\n",
       "      <th>2</th>\n",
       "      <td>https://lenta.ru/news/1914/09/17/nesteroff/</td>\n",
       "      <td>1914. Das ist Nesteroff!</td>\n",
       "      <td>Штабс-капитан П. Н. Нестеров на днях, увидев в...</td>\n",
       "      <td>Библиотека</td>\n",
       "      <td>Первая мировая</td>\n",
       "    </tr>\n",
       "    <tr>\n",
       "      <th>3</th>\n",
       "      <td>https://lenta.ru/news/1914/09/17/bulldogn/</td>\n",
       "      <td>1914. Бульдог-гонец под Льежем</td>\n",
       "      <td>Фотограф-корреспондент Daily Mirror рассказыва...</td>\n",
       "      <td>Библиотека</td>\n",
       "      <td>Первая мировая</td>\n",
       "    </tr>\n",
       "    <tr>\n",
       "      <th>4</th>\n",
       "      <td>https://lenta.ru/news/1914/09/18/zver/</td>\n",
       "      <td>1914. Под Люблином пойман швабский зверь</td>\n",
       "      <td>Лица, приехавшие в Варшаву из Люблина, передаю...</td>\n",
       "      <td>Библиотека</td>\n",
       "      <td>Первая мировая</td>\n",
       "    </tr>\n",
       "    <tr>\n",
       "      <th>...</th>\n",
       "      <td>...</td>\n",
       "      <td>...</td>\n",
       "      <td>...</td>\n",
       "      <td>...</td>\n",
       "      <td>...</td>\n",
       "    </tr>\n",
       "    <tr>\n",
       "      <th>9995</th>\n",
       "      <td>https://lenta.ru/news/2000/07/10/kpp/</td>\n",
       "      <td>На границе Дагестана и Чечни будут стрелять в ...</td>\n",
       "      <td>Глава МВД Дагестана приказал нарядам милиции н...</td>\n",
       "      <td>Россия</td>\n",
       "      <td>Все</td>\n",
       "    </tr>\n",
       "    <tr>\n",
       "      <th>9996</th>\n",
       "      <td>https://lenta.ru/news/2000/07/10/gossovet/</td>\n",
       "      <td>Путин пересадит губернаторов в Госсовет</td>\n",
       "      <td>Представители Кремля ведут активный диалог с г...</td>\n",
       "      <td>Россия</td>\n",
       "      <td>Все</td>\n",
       "    </tr>\n",
       "    <tr>\n",
       "      <th>9997</th>\n",
       "      <td>https://lenta.ru/news/2000/07/10/clowns/</td>\n",
       "      <td>В Москву съедутся клоуны со всего мира</td>\n",
       "      <td>В Москве 20 июля открывается фестиваль \"Планет...</td>\n",
       "      <td>Россия</td>\n",
       "      <td>Все</td>\n",
       "    </tr>\n",
       "    <tr>\n",
       "      <th>9998</th>\n",
       "      <td>https://lenta.ru/news/2000/07/10/women/</td>\n",
       "      <td>Старшая Уильямс выигрывает чемпионский титул</td>\n",
       "      <td>Чисто американским получился финал Уимблдонск...</td>\n",
       "      <td>Спорт</td>\n",
       "      <td>Все</td>\n",
       "    </tr>\n",
       "    <tr>\n",
       "      <th>9999</th>\n",
       "      <td>https://lenta.ru/news/2000/07/10/zenit/</td>\n",
       "      <td>\"Зенит\" выходит в третий раунд Кубка Интертото</td>\n",
       "      <td>Первым российским клубом, стартовавшим в сезон...</td>\n",
       "      <td>Спорт</td>\n",
       "      <td>Все</td>\n",
       "    </tr>\n",
       "  </tbody>\n",
       "</table>\n",
       "<p>10000 rows × 5 columns</p>\n",
       "</div>"
      ],
      "text/plain": [
       "                                              url  \\\n",
       "0      https://lenta.ru/news/1914/09/16/hungarnn/   \n",
       "1     https://lenta.ru/news/1914/09/16/lermontov/   \n",
       "2     https://lenta.ru/news/1914/09/17/nesteroff/   \n",
       "3      https://lenta.ru/news/1914/09/17/bulldogn/   \n",
       "4          https://lenta.ru/news/1914/09/18/zver/   \n",
       "...                                           ...   \n",
       "9995        https://lenta.ru/news/2000/07/10/kpp/   \n",
       "9996   https://lenta.ru/news/2000/07/10/gossovet/   \n",
       "9997     https://lenta.ru/news/2000/07/10/clowns/   \n",
       "9998      https://lenta.ru/news/2000/07/10/women/   \n",
       "9999      https://lenta.ru/news/2000/07/10/zenit/   \n",
       "\n",
       "                                                  title  \\\n",
       "0     1914. Русские войска вступили в пределы Венгрии     \n",
       "1     1914. Празднование столетия М.Ю. Лермонтова от...   \n",
       "2                              1914. Das ist Nesteroff!   \n",
       "3                       1914. Бульдог-гонец под Льежем    \n",
       "4              1914. Под Люблином пойман швабский зверь   \n",
       "...                                                 ...   \n",
       "9995  На границе Дагестана и Чечни будут стрелять в ...   \n",
       "9996            Путин пересадит губернаторов в Госсовет   \n",
       "9997             В Москву съедутся клоуны со всего мира   \n",
       "9998       Старшая Уильямс выигрывает чемпионский титул   \n",
       "9999     \"Зенит\" выходит в третий раунд Кубка Интертото   \n",
       "\n",
       "                                                   text       topic  \\\n",
       "0     Бои у Сопоцкина и Друскеник закончились отступ...  Библиотека   \n",
       "1     Министерство народного просвещения, в виду про...  Библиотека   \n",
       "2     Штабс-капитан П. Н. Нестеров на днях, увидев в...  Библиотека   \n",
       "3     Фотограф-корреспондент Daily Mirror рассказыва...  Библиотека   \n",
       "4     Лица, приехавшие в Варшаву из Люблина, передаю...  Библиотека   \n",
       "...                                                 ...         ...   \n",
       "9995  Глава МВД Дагестана приказал нарядам милиции н...      Россия   \n",
       "9996  Представители Кремля ведут активный диалог с г...      Россия   \n",
       "9997  В Москве 20 июля открывается фестиваль \"Планет...      Россия   \n",
       "9998   Чисто американским получился финал Уимблдонск...       Спорт   \n",
       "9999  Первым российским клубом, стартовавшим в сезон...       Спорт   \n",
       "\n",
       "                tags  \n",
       "0     Первая мировая  \n",
       "1     Первая мировая  \n",
       "2     Первая мировая  \n",
       "3     Первая мировая  \n",
       "4     Первая мировая  \n",
       "...              ...  \n",
       "9995             Все  \n",
       "9996             Все  \n",
       "9997             Все  \n",
       "9998             Все  \n",
       "9999             Все  \n",
       "\n",
       "[10000 rows x 5 columns]"
      ]
     },
     "execution_count": 4,
     "metadata": {},
     "output_type": "execute_result"
    }
   ],
   "source": [
    "news"
   ]
  },
  {
   "cell_type": "markdown",
   "id": "9d20ecee-a191-4dda-823a-934bae05a062",
   "metadata": {},
   "source": [
    "### Загрузка тонального словаря"
   ]
  },
  {
   "cell_type": "code",
   "execution_count": 5,
   "id": "39e8481c-df5f-4e92-b74f-64037b1efc82",
   "metadata": {
    "ExecuteTime": {
     "end_time": "2024-04-15T13:44:40.522683Z",
     "start_time": "2024-04-15T13:44:40.511684Z"
    }
   },
   "outputs": [],
   "source": [
    "# Датасет тонального словаря\n",
    "url = 'https://raw.githubusercontent.com/dkulagin/kartaslov/master/dataset/kartaslovsent/kartaslovsent.csv'\n",
    "path = './csv/kartaslovsent.csv'\n",
    "if not os.path.isfile(\"./csv/kartaslovsent.csv\"):\n",
    "    # Загружаем данные\n",
    "    wget.download(url, out=path)"
   ]
  },
  {
   "cell_type": "code",
   "execution_count": 6,
   "id": "0cbbb798-4d45-4ddd-98de-588df54040b5",
   "metadata": {
    "ExecuteTime": {
     "end_time": "2024-04-15T13:54:55.668822Z",
     "start_time": "2024-04-15T13:54:55.617302Z"
    }
   },
   "outputs": [],
   "source": [
    "df_tone_dictionary = pd.read_csv('./csv/kartaslovsent.csv', sep=';', on_bad_lines='skip')"
   ]
  },
  {
   "cell_type": "code",
   "execution_count": 7,
   "id": "a3f8871b-c8f2-4a5a-8383-b2bbe9837775",
   "metadata": {
    "ExecuteTime": {
     "end_time": "2024-04-15T13:54:57.124806Z",
     "start_time": "2024-04-15T13:54:57.100802Z"
    }
   },
   "outputs": [
    {
     "data": {
      "text/html": [
       "<div>\n",
       "<style scoped>\n",
       "    .dataframe tbody tr th:only-of-type {\n",
       "        vertical-align: middle;\n",
       "    }\n",
       "\n",
       "    .dataframe tbody tr th {\n",
       "        vertical-align: top;\n",
       "    }\n",
       "\n",
       "    .dataframe thead th {\n",
       "        text-align: right;\n",
       "    }\n",
       "</style>\n",
       "<table border=\"1\" class=\"dataframe\">\n",
       "  <thead>\n",
       "    <tr style=\"text-align: right;\">\n",
       "      <th></th>\n",
       "      <th>term</th>\n",
       "      <th>tag</th>\n",
       "      <th>value</th>\n",
       "      <th>pstv</th>\n",
       "      <th>ngtv</th>\n",
       "      <th>neut</th>\n",
       "      <th>dunno</th>\n",
       "      <th>pstvNgtvDisagreementRatio</th>\n",
       "    </tr>\n",
       "  </thead>\n",
       "  <tbody>\n",
       "    <tr>\n",
       "      <th>0</th>\n",
       "      <td>абажур</td>\n",
       "      <td>NEUT</td>\n",
       "      <td>0.08</td>\n",
       "      <td>0.185</td>\n",
       "      <td>0.037</td>\n",
       "      <td>0.580</td>\n",
       "      <td>0.198</td>\n",
       "      <td>0.00</td>\n",
       "    </tr>\n",
       "    <tr>\n",
       "      <th>1</th>\n",
       "      <td>аббатство</td>\n",
       "      <td>NEUT</td>\n",
       "      <td>0.10</td>\n",
       "      <td>0.192</td>\n",
       "      <td>0.038</td>\n",
       "      <td>0.578</td>\n",
       "      <td>0.192</td>\n",
       "      <td>0.00</td>\n",
       "    </tr>\n",
       "    <tr>\n",
       "      <th>2</th>\n",
       "      <td>аббревиатура</td>\n",
       "      <td>NEUT</td>\n",
       "      <td>0.08</td>\n",
       "      <td>0.196</td>\n",
       "      <td>0.000</td>\n",
       "      <td>0.630</td>\n",
       "      <td>0.174</td>\n",
       "      <td>0.00</td>\n",
       "    </tr>\n",
       "    <tr>\n",
       "      <th>3</th>\n",
       "      <td>абзац</td>\n",
       "      <td>NEUT</td>\n",
       "      <td>0.00</td>\n",
       "      <td>0.137</td>\n",
       "      <td>0.000</td>\n",
       "      <td>0.706</td>\n",
       "      <td>0.157</td>\n",
       "      <td>0.00</td>\n",
       "    </tr>\n",
       "    <tr>\n",
       "      <th>4</th>\n",
       "      <td>абиссинец</td>\n",
       "      <td>NEUT</td>\n",
       "      <td>0.28</td>\n",
       "      <td>0.151</td>\n",
       "      <td>0.113</td>\n",
       "      <td>0.245</td>\n",
       "      <td>0.491</td>\n",
       "      <td>0.19</td>\n",
       "    </tr>\n",
       "    <tr>\n",
       "      <th>...</th>\n",
       "      <td>...</td>\n",
       "      <td>...</td>\n",
       "      <td>...</td>\n",
       "      <td>...</td>\n",
       "      <td>...</td>\n",
       "      <td>...</td>\n",
       "      <td>...</td>\n",
       "      <td>...</td>\n",
       "    </tr>\n",
       "    <tr>\n",
       "      <th>46122</th>\n",
       "      <td>ёмкость</td>\n",
       "      <td>NEUT</td>\n",
       "      <td>0.00</td>\n",
       "      <td>0.167</td>\n",
       "      <td>0.000</td>\n",
       "      <td>0.690</td>\n",
       "      <td>0.143</td>\n",
       "      <td>0.00</td>\n",
       "    </tr>\n",
       "    <tr>\n",
       "      <th>46123</th>\n",
       "      <td>ёрзать</td>\n",
       "      <td>NGTV</td>\n",
       "      <td>-0.54</td>\n",
       "      <td>0.050</td>\n",
       "      <td>0.446</td>\n",
       "      <td>0.397</td>\n",
       "      <td>0.107</td>\n",
       "      <td>0.00</td>\n",
       "    </tr>\n",
       "    <tr>\n",
       "      <th>46124</th>\n",
       "      <td>ёрничать</td>\n",
       "      <td>NGTV</td>\n",
       "      <td>-0.79</td>\n",
       "      <td>0.078</td>\n",
       "      <td>0.529</td>\n",
       "      <td>0.236</td>\n",
       "      <td>0.157</td>\n",
       "      <td>0.00</td>\n",
       "    </tr>\n",
       "    <tr>\n",
       "      <th>46125</th>\n",
       "      <td>ёрш</td>\n",
       "      <td>NEUT</td>\n",
       "      <td>0.16</td>\n",
       "      <td>0.224</td>\n",
       "      <td>0.072</td>\n",
       "      <td>0.576</td>\n",
       "      <td>0.128</td>\n",
       "      <td>0.00</td>\n",
       "    </tr>\n",
       "    <tr>\n",
       "      <th>46126</th>\n",
       "      <td>ёршик</td>\n",
       "      <td>NEUT</td>\n",
       "      <td>0.00</td>\n",
       "      <td>0.152</td>\n",
       "      <td>0.043</td>\n",
       "      <td>0.718</td>\n",
       "      <td>0.087</td>\n",
       "      <td>0.00</td>\n",
       "    </tr>\n",
       "  </tbody>\n",
       "</table>\n",
       "<p>46127 rows × 8 columns</p>\n",
       "</div>"
      ],
      "text/plain": [
       "               term   tag  value   pstv   ngtv   neut  dunno  \\\n",
       "0            абажур  NEUT   0.08  0.185  0.037  0.580  0.198   \n",
       "1         аббатство  NEUT   0.10  0.192  0.038  0.578  0.192   \n",
       "2      аббревиатура  NEUT   0.08  0.196  0.000  0.630  0.174   \n",
       "3             абзац  NEUT   0.00  0.137  0.000  0.706  0.157   \n",
       "4         абиссинец  NEUT   0.28  0.151  0.113  0.245  0.491   \n",
       "...             ...   ...    ...    ...    ...    ...    ...   \n",
       "46122       ёмкость  NEUT   0.00  0.167  0.000  0.690  0.143   \n",
       "46123        ёрзать  NGTV  -0.54  0.050  0.446  0.397  0.107   \n",
       "46124      ёрничать  NGTV  -0.79  0.078  0.529  0.236  0.157   \n",
       "46125           ёрш  NEUT   0.16  0.224  0.072  0.576  0.128   \n",
       "46126         ёршик  NEUT   0.00  0.152  0.043  0.718  0.087   \n",
       "\n",
       "       pstvNgtvDisagreementRatio  \n",
       "0                           0.00  \n",
       "1                           0.00  \n",
       "2                           0.00  \n",
       "3                           0.00  \n",
       "4                           0.19  \n",
       "...                          ...  \n",
       "46122                       0.00  \n",
       "46123                       0.00  \n",
       "46124                       0.00  \n",
       "46125                       0.00  \n",
       "46126                       0.00  \n",
       "\n",
       "[46127 rows x 8 columns]"
      ]
     },
     "execution_count": 7,
     "metadata": {},
     "output_type": "execute_result"
    }
   ],
   "source": [
    "df_tone_dictionary"
   ]
  },
  {
   "cell_type": "markdown",
   "id": "05b65ed0-1f36-4ae2-a308-ce7d9e5ddc93",
   "metadata": {},
   "source": [
    "## Присвоение метки настроения заголовкам новостей"
   ]
  },
  {
   "cell_type": "markdown",
   "id": "f236346e-4b34-4c9b-9c0b-3b5527c0e77f",
   "metadata": {},
   "source": [
    "### Перемешаем и разделим датафрейм на две части (1-разметка вручную, 2-разметка на основе правил)"
   ]
  },
  {
   "cell_type": "code",
   "execution_count": 8,
   "id": "e9300e38-2903-45a6-a0b7-4305fc725f41",
   "metadata": {
    "ExecuteTime": {
     "end_time": "2024-04-15T13:55:00.230305Z",
     "start_time": "2024-04-15T13:55:00.211396Z"
    }
   },
   "outputs": [],
   "source": [
    "# Перемешаем и разделим датафрем на 2 части\n",
    "title_news_1, title_news_2 = train_test_split(news['title'], train_size=5, random_state=42)"
   ]
  },
  {
   "cell_type": "code",
   "execution_count": 9,
   "id": "075b0620-7aa6-496e-ab1b-53b215bafa44",
   "metadata": {
    "ExecuteTime": {
     "end_time": "2024-04-15T13:55:01.751979Z",
     "start_time": "2024-04-15T13:55:01.734980Z"
    }
   },
   "outputs": [],
   "source": [
    "# Преобразуем полученые датасеты в датафреймы Pandas\n",
    "df_title_news_1 = pd.DataFrame(title_news_1)\n",
    "df_title_news_2 = pd.DataFrame(title_news_2)"
   ]
  },
  {
   "cell_type": "code",
   "execution_count": 10,
   "id": "5e897675-9888-4cd1-8e3c-5db5f866bea5",
   "metadata": {
    "ExecuteTime": {
     "end_time": "2024-04-15T13:55:02.962475Z",
     "start_time": "2024-04-15T13:55:02.951470Z"
    }
   },
   "outputs": [
    {
     "data": {
      "text/html": [
       "<div>\n",
       "<style scoped>\n",
       "    .dataframe tbody tr th:only-of-type {\n",
       "        vertical-align: middle;\n",
       "    }\n",
       "\n",
       "    .dataframe tbody tr th {\n",
       "        vertical-align: top;\n",
       "    }\n",
       "\n",
       "    .dataframe thead th {\n",
       "        text-align: right;\n",
       "    }\n",
       "</style>\n",
       "<table border=\"1\" class=\"dataframe\">\n",
       "  <thead>\n",
       "    <tr style=\"text-align: right;\">\n",
       "      <th></th>\n",
       "      <th>title</th>\n",
       "    </tr>\n",
       "  </thead>\n",
       "  <tbody>\n",
       "    <tr>\n",
       "      <th>5734</th>\n",
       "      <td>Ястржембский называет имя арестованного за взр...</td>\n",
       "    </tr>\n",
       "    <tr>\n",
       "      <th>5191</th>\n",
       "      <td>Чемпионат Италии: \"Ювентус\" ушел в отрыв</td>\n",
       "    </tr>\n",
       "    <tr>\n",
       "      <th>5390</th>\n",
       "      <td>Из Чернокозово отпущены первые амнистированные...</td>\n",
       "    </tr>\n",
       "    <tr>\n",
       "      <th>860</th>\n",
       "      <td>Парламент Украины затребовал у Конгресса США п...</td>\n",
       "    </tr>\n",
       "    <tr>\n",
       "      <th>7270</th>\n",
       "      <td>Пилот Формулы-1 уцелел в авиакатастрофе</td>\n",
       "    </tr>\n",
       "  </tbody>\n",
       "</table>\n",
       "</div>"
      ],
      "text/plain": [
       "                                                  title\n",
       "5734  Ястржембский называет имя арестованного за взр...\n",
       "5191           Чемпионат Италии: \"Ювентус\" ушел в отрыв\n",
       "5390  Из Чернокозово отпущены первые амнистированные...\n",
       "860   Парламент Украины затребовал у Конгресса США п...\n",
       "7270            Пилот Формулы-1 уцелел в авиакатастрофе"
      ]
     },
     "execution_count": 10,
     "metadata": {},
     "output_type": "execute_result"
    }
   ],
   "source": [
    "df_title_news_1.head()"
   ]
  },
  {
   "cell_type": "code",
   "execution_count": 11,
   "id": "b07a9a65-b121-4b79-91c4-383c24276b11",
   "metadata": {
    "ExecuteTime": {
     "end_time": "2024-04-15T13:55:04.165476Z",
     "start_time": "2024-04-15T13:55:04.158714Z"
    }
   },
   "outputs": [
    {
     "data": {
      "text/html": [
       "<div>\n",
       "<style scoped>\n",
       "    .dataframe tbody tr th:only-of-type {\n",
       "        vertical-align: middle;\n",
       "    }\n",
       "\n",
       "    .dataframe tbody tr th {\n",
       "        vertical-align: top;\n",
       "    }\n",
       "\n",
       "    .dataframe thead th {\n",
       "        text-align: right;\n",
       "    }\n",
       "</style>\n",
       "<table border=\"1\" class=\"dataframe\">\n",
       "  <thead>\n",
       "    <tr style=\"text-align: right;\">\n",
       "      <th></th>\n",
       "      <th>title</th>\n",
       "    </tr>\n",
       "  </thead>\n",
       "  <tbody>\n",
       "    <tr>\n",
       "      <th>6252</th>\n",
       "      <td>Чтобы не платить налог, интернет-изданиям нужн...</td>\n",
       "    </tr>\n",
       "    <tr>\n",
       "      <th>4684</th>\n",
       "      <td>Кубинского дипломата выставили из США</td>\n",
       "    </tr>\n",
       "    <tr>\n",
       "      <th>1731</th>\n",
       "      <td>Правительство РФ: третье тысячеление наступит ...</td>\n",
       "    </tr>\n",
       "    <tr>\n",
       "      <th>4742</th>\n",
       "      <td>Взрывчатку в Сибирь отправили по почте</td>\n",
       "    </tr>\n",
       "    <tr>\n",
       "      <th>4521</th>\n",
       "      <td>В Дагестане совершено покушение на генерала по...</td>\n",
       "    </tr>\n",
       "  </tbody>\n",
       "</table>\n",
       "</div>"
      ],
      "text/plain": [
       "                                                  title\n",
       "6252  Чтобы не платить налог, интернет-изданиям нужн...\n",
       "4684              Кубинского дипломата выставили из США\n",
       "1731  Правительство РФ: третье тысячеление наступит ...\n",
       "4742             Взрывчатку в Сибирь отправили по почте\n",
       "4521  В Дагестане совершено покушение на генерала по..."
      ]
     },
     "execution_count": 11,
     "metadata": {},
     "output_type": "execute_result"
    }
   ],
   "source": [
    "df_title_news_2.head()"
   ]
  },
  {
   "cell_type": "markdown",
   "id": "9d81a3d3-7212-40ca-9143-88ec4804bc7a",
   "metadata": {},
   "source": [
    "### Определение функций"
   ]
  },
  {
   "cell_type": "code",
   "execution_count": 12,
   "id": "e67f3444-722a-4917-ad26-60c826d5d035",
   "metadata": {
    "ExecuteTime": {
     "end_time": "2024-04-15T13:55:07.596701Z",
     "start_time": "2024-04-15T13:55:07.591704Z"
    }
   },
   "outputs": [],
   "source": [
    "# Функция для присвоения метки настроения на основе наличия положительных или отрицательных слов\n",
    "def get_sentiment(text, df_td=df_tone_dictionary):\n",
    "    '''\n",
    "    Функция вычисляет метрику настроения.\n",
    "\n",
    "    :param text: текст который будем анализировать,\n",
    "    :param df_td: тональный словарь,\n",
    "    :return: возвращает оценку тональности: -0.35 (неготив) <= нейтрально >= (0.55) позитив \n",
    "    '''\n",
    "    # Токенизация текста на отдельные слова\n",
    "    words = nltk.word_tokenize(text.lower())\n",
    "    sum_value = 0  # Сумма всех зачений весов найденных слов\n",
    "    \n",
    "    for word in words:\n",
    "        if len(df_td[df_td.term == word]):\n",
    "            df_filtered = df_td[df_td['term'] == word]\n",
    "            value = df_filtered['value'].iloc[0]\n",
    "            sum_value += value\n",
    " \n",
    "    return sum_value   \n"
   ]
  },
  {
   "cell_type": "code",
   "execution_count": 13,
   "id": "6344c0cd-e48e-43a4-9242-cdad8895e3e0",
   "metadata": {
    "ExecuteTime": {
     "end_time": "2024-04-15T14:16:25.400466Z",
     "start_time": "2024-04-15T14:16:25.396467Z"
    }
   },
   "outputs": [],
   "source": [
    "# Определение функции для присвоения метки настроения на основе оценки полярности настроения\n",
    "def get_sentiment_label(score):\n",
    "    '''\n",
    "    Функция выводит метку настроения (негативный, позитивный или нейтральный).\n",
    "\n",
    "    :param score: уровень метки настроения от -1 до 1,\n",
    "    :return: возвращает оценку тональности. \n",
    "    '''\n",
    "    if score < -0.35:\n",
    "        return 'negative'  \n",
    "    elif score >= 0.55:\n",
    "        return 'positive' \n",
    "    else:\n",
    "        return 'neutral'"
   ]
  },
  {
   "cell_type": "markdown",
   "id": "0bc1a3f6-2453-42f5-b396-ea46e81d6c64",
   "metadata": {},
   "source": [
    "#### Проверка функций"
   ]
  },
  {
   "cell_type": "code",
   "execution_count": 14,
   "id": "5d8785cd-e559-405c-a344-94d731dfbe3a",
   "metadata": {
    "ExecuteTime": {
     "end_time": "2024-04-15T14:16:30.910490Z",
     "start_time": "2024-04-15T14:16:30.885780Z"
    }
   },
   "outputs": [
    {
     "name": "stdout",
     "output_type": "stream",
     "text": [
      "CPU times: total: 31.2 ms\n",
      "Wall time: 24.4 ms\n"
     ]
    },
    {
     "data": {
      "text/plain": [
       "0.55"
      ]
     },
     "execution_count": 14,
     "metadata": {},
     "output_type": "execute_result"
    }
   ],
   "source": [
    "%%time\n",
    "get_sentiment('Превосходно, что Аист прелетел')"
   ]
  },
  {
   "cell_type": "code",
   "execution_count": 15,
   "id": "dd826400-e1f8-4328-a60c-6d8f411a6d88",
   "metadata": {
    "ExecuteTime": {
     "end_time": "2024-04-15T13:45:25.271831Z",
     "start_time": "2024-04-15T13:45:25.247830Z"
    }
   },
   "outputs": [
    {
     "data": {
      "text/plain": [
       "-0.68"
      ]
     },
     "execution_count": 15,
     "metadata": {},
     "output_type": "execute_result"
    }
   ],
   "source": [
    "get_sentiment('Удар молнии')"
   ]
  },
  {
   "cell_type": "code",
   "execution_count": 16,
   "id": "23d0defa-5dac-4e12-94ee-a971bd799fd6",
   "metadata": {},
   "outputs": [
    {
     "data": {
      "text/plain": [
       "0"
      ]
     },
     "execution_count": 16,
     "metadata": {},
     "output_type": "execute_result"
    }
   ],
   "source": [
    "get_sentiment('Всё в норме')"
   ]
  },
  {
   "cell_type": "code",
   "execution_count": 17,
   "id": "ccd4f04c-f352-4fae-b94d-55ba2c16ece7",
   "metadata": {
    "ExecuteTime": {
     "end_time": "2024-04-15T13:45:28.554069Z",
     "start_time": "2024-04-15T13:45:28.531563Z"
    }
   },
   "outputs": [
    {
     "data": {
      "text/plain": [
       "'positive'"
      ]
     },
     "execution_count": 17,
     "metadata": {},
     "output_type": "execute_result"
    }
   ],
   "source": [
    "get_sentiment_label(get_sentiment('Превосходно, что Аист прелетел'))"
   ]
  },
  {
   "cell_type": "code",
   "execution_count": 18,
   "id": "3d9e2fdc-a4f7-4a4d-b7f9-32d37e30b62c",
   "metadata": {
    "ExecuteTime": {
     "end_time": "2024-04-15T13:45:29.864945Z",
     "start_time": "2024-04-15T13:45:29.847944Z"
    }
   },
   "outputs": [
    {
     "data": {
      "text/plain": [
       "'negative'"
      ]
     },
     "execution_count": 18,
     "metadata": {},
     "output_type": "execute_result"
    }
   ],
   "source": [
    "get_sentiment_label(get_sentiment('Удар молнии'))"
   ]
  },
  {
   "cell_type": "code",
   "execution_count": 19,
   "id": "d9f7ddf2-bafc-422a-a18c-5969556e675d",
   "metadata": {},
   "outputs": [
    {
     "data": {
      "text/plain": [
       "'neutral'"
      ]
     },
     "execution_count": 19,
     "metadata": {},
     "output_type": "execute_result"
    }
   ],
   "source": [
    "get_sentiment_label(get_sentiment('Всё в норме'))"
   ]
  },
  {
   "cell_type": "markdown",
   "id": "faba75ef-0da6-42e1-a249-26c1f6067365",
   "metadata": {},
   "source": [
    "### Присваиваем метки"
   ]
  },
  {
   "cell_type": "markdown",
   "id": "bc982877-0003-40cb-8556-3ee9ddefdb52",
   "metadata": {},
   "source": [
    "#### Присвоение меток настроения на основе правил"
   ]
  },
  {
   "cell_type": "code",
   "execution_count": 20,
   "id": "4a6cf815-d83d-4f0f-845a-7ca5c942aff0",
   "metadata": {},
   "outputs": [
    {
     "name": "stdout",
     "output_type": "stream",
     "text": [
      "CPU times: total: 3min 22s\n",
      "Wall time: 3min 22s\n"
     ]
    }
   ],
   "source": [
    "%%time\n",
    "# Применение функции к столбцу 'title' датасета для получения полярности настроения каждого заголовка новости\n",
    "df_title_news_2['sentiment'] = df_title_news_2['title'].apply(get_sentiment)\n",
    "# Применение функции к столбцу 'sentiment' датасета для присвоения меток настроения\n",
    "df_title_news_2['sentiment_label'] = df_title_news_2['sentiment'].apply(get_sentiment_label)"
   ]
  },
  {
   "cell_type": "code",
   "execution_count": 21,
   "id": "17a3944b-188e-4c0e-8324-10bf9f41e04d",
   "metadata": {},
   "outputs": [
    {
     "data": {
      "text/html": [
       "<div>\n",
       "<style scoped>\n",
       "    .dataframe tbody tr th:only-of-type {\n",
       "        vertical-align: middle;\n",
       "    }\n",
       "\n",
       "    .dataframe tbody tr th {\n",
       "        vertical-align: top;\n",
       "    }\n",
       "\n",
       "    .dataframe thead th {\n",
       "        text-align: right;\n",
       "    }\n",
       "</style>\n",
       "<table border=\"1\" class=\"dataframe\">\n",
       "  <thead>\n",
       "    <tr style=\"text-align: right;\">\n",
       "      <th></th>\n",
       "      <th>title</th>\n",
       "      <th>sentiment</th>\n",
       "      <th>sentiment_label</th>\n",
       "    </tr>\n",
       "  </thead>\n",
       "  <tbody>\n",
       "    <tr>\n",
       "      <th>6252</th>\n",
       "      <td>Чтобы не платить налог, интернет-изданиям нужн...</td>\n",
       "      <td>-0.26</td>\n",
       "      <td>neutral</td>\n",
       "    </tr>\n",
       "    <tr>\n",
       "      <th>4684</th>\n",
       "      <td>Кубинского дипломата выставили из США</td>\n",
       "      <td>0.00</td>\n",
       "      <td>neutral</td>\n",
       "    </tr>\n",
       "    <tr>\n",
       "      <th>1731</th>\n",
       "      <td>Правительство РФ: третье тысячеление наступит ...</td>\n",
       "      <td>-0.14</td>\n",
       "      <td>neutral</td>\n",
       "    </tr>\n",
       "    <tr>\n",
       "      <th>4742</th>\n",
       "      <td>Взрывчатку в Сибирь отправили по почте</td>\n",
       "      <td>0.00</td>\n",
       "      <td>neutral</td>\n",
       "    </tr>\n",
       "    <tr>\n",
       "      <th>4521</th>\n",
       "      <td>В Дагестане совершено покушение на генерала по...</td>\n",
       "      <td>-1.00</td>\n",
       "      <td>negative</td>\n",
       "    </tr>\n",
       "  </tbody>\n",
       "</table>\n",
       "</div>"
      ],
      "text/plain": [
       "                                                  title  sentiment  \\\n",
       "6252  Чтобы не платить налог, интернет-изданиям нужн...      -0.26   \n",
       "4684              Кубинского дипломата выставили из США       0.00   \n",
       "1731  Правительство РФ: третье тысячеление наступит ...      -0.14   \n",
       "4742             Взрывчатку в Сибирь отправили по почте       0.00   \n",
       "4521  В Дагестане совершено покушение на генерала по...      -1.00   \n",
       "\n",
       "     sentiment_label  \n",
       "6252         neutral  \n",
       "4684         neutral  \n",
       "1731         neutral  \n",
       "4742         neutral  \n",
       "4521        negative  "
      ]
     },
     "execution_count": 21,
     "metadata": {},
     "output_type": "execute_result"
    }
   ],
   "source": [
    "df_title_news_2.head()"
   ]
  },
  {
   "cell_type": "code",
   "execution_count": 22,
   "id": "53e8dbd6-cc26-44ed-b294-97ccfcdb2a31",
   "metadata": {},
   "outputs": [
    {
     "data": {
      "text/plain": [
       "(9995, 3)"
      ]
     },
     "execution_count": 22,
     "metadata": {},
     "output_type": "execute_result"
    }
   ],
   "source": [
    "df_title_news_2.shape"
   ]
  },
  {
   "cell_type": "markdown",
   "id": "296d54e1-00ea-43e4-83b6-75bb604cc1fc",
   "metadata": {},
   "source": [
    "#### Присвоение меток настроения в label-studio"
   ]
  },
  {
   "cell_type": "markdown",
   "id": "b16a43ff-c7b6-4a17-ae13-0aedfa25a03f",
   "metadata": {},
   "source": [
    "##### Сохраним датафрем в CSV файл"
   ]
  },
  {
   "cell_type": "code",
   "execution_count": 23,
   "id": "c1f7dee9-e46b-430b-a0b2-8bc8e48a6863",
   "metadata": {},
   "outputs": [],
   "source": [
    "df_title_news_1.to_csv('./csv/manual_marking.csv', index=False)"
   ]
  },
  {
   "cell_type": "markdown",
   "id": "b2a8c0a0-f160-49f1-9eb8-271340bdbe2f",
   "metadata": {},
   "source": [
    "##### Запускаем локально label-studio"
   ]
  },
  {
   "cell_type": "code",
   "execution_count": 25,
   "id": "8de78cfd-ce72-4b77-bb3d-d5aed0e3ae91",
   "metadata": {},
   "outputs": [],
   "source": [
    "#!label-studio"
   ]
  },
  {
   "cell_type": "markdown",
   "id": "712d3455-19fe-4293-8e3c-3d8fde7c80e1",
   "metadata": {},
   "source": [
    "##### Экспортируем размеченный вручную CSV файл и загружаем его в датафрейм"
   ]
  },
  {
   "cell_type": "code",
   "execution_count": 27,
   "id": "cf7aadc6-96aa-414b-a573-21364fb63e88",
   "metadata": {},
   "outputs": [],
   "source": [
    "df_title_news_1 = pd.read_csv('./csv/project-1-at-2024-04-14-20-19-3822a918.csv', engine='python', on_bad_lines='skip')"
   ]
  },
  {
   "cell_type": "code",
   "execution_count": 28,
   "id": "0092004e-4c23-455b-812b-3b619fd811b6",
   "metadata": {},
   "outputs": [
    {
     "data": {
      "text/html": [
       "<div>\n",
       "<style scoped>\n",
       "    .dataframe tbody tr th:only-of-type {\n",
       "        vertical-align: middle;\n",
       "    }\n",
       "\n",
       "    .dataframe tbody tr th {\n",
       "        vertical-align: top;\n",
       "    }\n",
       "\n",
       "    .dataframe thead th {\n",
       "        text-align: right;\n",
       "    }\n",
       "</style>\n",
       "<table border=\"1\" class=\"dataframe\">\n",
       "  <thead>\n",
       "    <tr style=\"text-align: right;\">\n",
       "      <th></th>\n",
       "      <th>annotation_id</th>\n",
       "      <th>annotator</th>\n",
       "      <th>created_at</th>\n",
       "      <th>id</th>\n",
       "      <th>lead_time</th>\n",
       "      <th>sentiment</th>\n",
       "      <th>title</th>\n",
       "      <th>updated_at</th>\n",
       "    </tr>\n",
       "  </thead>\n",
       "  <tbody>\n",
       "    <tr>\n",
       "      <th>0</th>\n",
       "      <td>1</td>\n",
       "      <td>1</td>\n",
       "      <td>2024-04-14T16:08:25.109948Z</td>\n",
       "      <td>1</td>\n",
       "      <td>18.735</td>\n",
       "      <td>positive</td>\n",
       "      <td>Ястржембский называет имя арестованного за взр...</td>\n",
       "      <td>2024-04-14T16:08:33.034497Z</td>\n",
       "    </tr>\n",
       "    <tr>\n",
       "      <th>1</th>\n",
       "      <td>2</td>\n",
       "      <td>1</td>\n",
       "      <td>2024-04-14T16:09:05.374325Z</td>\n",
       "      <td>2</td>\n",
       "      <td>13.131</td>\n",
       "      <td>neutral</td>\n",
       "      <td>Чемпионат Италии: \"Ювентус\" ушел в отрыв</td>\n",
       "      <td>2024-04-14T16:17:06.400265Z</td>\n",
       "    </tr>\n",
       "    <tr>\n",
       "      <th>2</th>\n",
       "      <td>3</td>\n",
       "      <td>1</td>\n",
       "      <td>2024-04-14T16:09:26.498394Z</td>\n",
       "      <td>3</td>\n",
       "      <td>6.770</td>\n",
       "      <td>negative</td>\n",
       "      <td>Из Чернокозово отпущены первые амнистированные...</td>\n",
       "      <td>2024-04-14T16:09:26.498394Z</td>\n",
       "    </tr>\n",
       "    <tr>\n",
       "      <th>3</th>\n",
       "      <td>4</td>\n",
       "      <td>1</td>\n",
       "      <td>2024-04-14T16:09:59.909605Z</td>\n",
       "      <td>4</td>\n",
       "      <td>7.341</td>\n",
       "      <td>neutral</td>\n",
       "      <td>Парламент Украины затребовал у Конгресса США п...</td>\n",
       "      <td>2024-04-14T16:09:59.909605Z</td>\n",
       "    </tr>\n",
       "    <tr>\n",
       "      <th>4</th>\n",
       "      <td>5</td>\n",
       "      <td>1</td>\n",
       "      <td>2024-04-14T16:10:25.863949Z</td>\n",
       "      <td>5</td>\n",
       "      <td>4.486</td>\n",
       "      <td>positive</td>\n",
       "      <td>Пилот Формулы-1 уцелел в авиакатастрофе</td>\n",
       "      <td>2024-04-14T16:10:25.863949Z</td>\n",
       "    </tr>\n",
       "  </tbody>\n",
       "</table>\n",
       "</div>"
      ],
      "text/plain": [
       "   annotation_id  annotator                   created_at  id  lead_time  \\\n",
       "0              1          1  2024-04-14T16:08:25.109948Z   1     18.735   \n",
       "1              2          1  2024-04-14T16:09:05.374325Z   2     13.131   \n",
       "2              3          1  2024-04-14T16:09:26.498394Z   3      6.770   \n",
       "3              4          1  2024-04-14T16:09:59.909605Z   4      7.341   \n",
       "4              5          1  2024-04-14T16:10:25.863949Z   5      4.486   \n",
       "\n",
       "  sentiment                                              title  \\\n",
       "0  positive  Ястржембский называет имя арестованного за взр...   \n",
       "1   neutral           Чемпионат Италии: \"Ювентус\" ушел в отрыв   \n",
       "2  negative  Из Чернокозово отпущены первые амнистированные...   \n",
       "3   neutral  Парламент Украины затребовал у Конгресса США п...   \n",
       "4  positive            Пилот Формулы-1 уцелел в авиакатастрофе   \n",
       "\n",
       "                    updated_at  \n",
       "0  2024-04-14T16:08:33.034497Z  \n",
       "1  2024-04-14T16:17:06.400265Z  \n",
       "2  2024-04-14T16:09:26.498394Z  \n",
       "3  2024-04-14T16:09:59.909605Z  \n",
       "4  2024-04-14T16:10:25.863949Z  "
      ]
     },
     "execution_count": 28,
     "metadata": {},
     "output_type": "execute_result"
    }
   ],
   "source": [
    "df_title_news_1.head()"
   ]
  },
  {
   "cell_type": "code",
   "execution_count": 29,
   "id": "34cbf5ba-f29e-459b-adb8-e7c8f8bad5b9",
   "metadata": {},
   "outputs": [],
   "source": [
    "# Оставим только нужные столбцы\n",
    "df_title_news_1 = df_title_news_1[['title', 'sentiment']].rename(columns={'sentiment': 'sentiment_label'})"
   ]
  },
  {
   "cell_type": "code",
   "execution_count": 30,
   "id": "c06d879c-31d1-4aaa-9b7d-04f744502d71",
   "metadata": {},
   "outputs": [
    {
     "data": {
      "text/html": [
       "<div>\n",
       "<style scoped>\n",
       "    .dataframe tbody tr th:only-of-type {\n",
       "        vertical-align: middle;\n",
       "    }\n",
       "\n",
       "    .dataframe tbody tr th {\n",
       "        vertical-align: top;\n",
       "    }\n",
       "\n",
       "    .dataframe thead th {\n",
       "        text-align: right;\n",
       "    }\n",
       "</style>\n",
       "<table border=\"1\" class=\"dataframe\">\n",
       "  <thead>\n",
       "    <tr style=\"text-align: right;\">\n",
       "      <th></th>\n",
       "      <th>title</th>\n",
       "      <th>sentiment_label</th>\n",
       "    </tr>\n",
       "  </thead>\n",
       "  <tbody>\n",
       "    <tr>\n",
       "      <th>0</th>\n",
       "      <td>Ястржембский называет имя арестованного за взр...</td>\n",
       "      <td>positive</td>\n",
       "    </tr>\n",
       "    <tr>\n",
       "      <th>1</th>\n",
       "      <td>Чемпионат Италии: \"Ювентус\" ушел в отрыв</td>\n",
       "      <td>neutral</td>\n",
       "    </tr>\n",
       "    <tr>\n",
       "      <th>2</th>\n",
       "      <td>Из Чернокозово отпущены первые амнистированные...</td>\n",
       "      <td>negative</td>\n",
       "    </tr>\n",
       "    <tr>\n",
       "      <th>3</th>\n",
       "      <td>Парламент Украины затребовал у Конгресса США п...</td>\n",
       "      <td>neutral</td>\n",
       "    </tr>\n",
       "    <tr>\n",
       "      <th>4</th>\n",
       "      <td>Пилот Формулы-1 уцелел в авиакатастрофе</td>\n",
       "      <td>positive</td>\n",
       "    </tr>\n",
       "  </tbody>\n",
       "</table>\n",
       "</div>"
      ],
      "text/plain": [
       "                                               title sentiment_label\n",
       "0  Ястржембский называет имя арестованного за взр...        positive\n",
       "1           Чемпионат Италии: \"Ювентус\" ушел в отрыв         neutral\n",
       "2  Из Чернокозово отпущены первые амнистированные...        negative\n",
       "3  Парламент Украины затребовал у Конгресса США п...         neutral\n",
       "4            Пилот Формулы-1 уцелел в авиакатастрофе        positive"
      ]
     },
     "execution_count": 30,
     "metadata": {},
     "output_type": "execute_result"
    }
   ],
   "source": [
    "df_title_news_1.head()"
   ]
  },
  {
   "cell_type": "markdown",
   "id": "c4db0da4-19b3-4e5c-9ddd-8f6e7ce4e42f",
   "metadata": {},
   "source": [
    "## Объединение датафреймов"
   ]
  },
  {
   "cell_type": "code",
   "execution_count": 31,
   "id": "731f8698-0957-44e4-beaa-135242de80ab",
   "metadata": {},
   "outputs": [],
   "source": [
    "# Объеденим три датафрейма\n",
    "df_title_news_concat = pd.concat([\n",
    "    df_title_news_1,\n",
    "    df_title_news_2,\n",
    "], axis=0)\n",
    "# Удалим лишний столбец\n",
    "del df_title_news_concat['sentiment']"
   ]
  },
  {
   "cell_type": "code",
   "execution_count": 32,
   "id": "97317487-003f-419e-be55-3ee5ce66d2da",
   "metadata": {},
   "outputs": [
    {
     "data": {
      "text/html": [
       "<div>\n",
       "<style scoped>\n",
       "    .dataframe tbody tr th:only-of-type {\n",
       "        vertical-align: middle;\n",
       "    }\n",
       "\n",
       "    .dataframe tbody tr th {\n",
       "        vertical-align: top;\n",
       "    }\n",
       "\n",
       "    .dataframe thead th {\n",
       "        text-align: right;\n",
       "    }\n",
       "</style>\n",
       "<table border=\"1\" class=\"dataframe\">\n",
       "  <thead>\n",
       "    <tr style=\"text-align: right;\">\n",
       "      <th></th>\n",
       "      <th>title</th>\n",
       "      <th>sentiment_label</th>\n",
       "    </tr>\n",
       "  </thead>\n",
       "  <tbody>\n",
       "    <tr>\n",
       "      <th>0</th>\n",
       "      <td>Ястржембский называет имя арестованного за взр...</td>\n",
       "      <td>positive</td>\n",
       "    </tr>\n",
       "    <tr>\n",
       "      <th>1</th>\n",
       "      <td>Чемпионат Италии: \"Ювентус\" ушел в отрыв</td>\n",
       "      <td>neutral</td>\n",
       "    </tr>\n",
       "    <tr>\n",
       "      <th>2</th>\n",
       "      <td>Из Чернокозово отпущены первые амнистированные...</td>\n",
       "      <td>negative</td>\n",
       "    </tr>\n",
       "    <tr>\n",
       "      <th>3</th>\n",
       "      <td>Парламент Украины затребовал у Конгресса США п...</td>\n",
       "      <td>neutral</td>\n",
       "    </tr>\n",
       "    <tr>\n",
       "      <th>4</th>\n",
       "      <td>Пилот Формулы-1 уцелел в авиакатастрофе</td>\n",
       "      <td>positive</td>\n",
       "    </tr>\n",
       "  </tbody>\n",
       "</table>\n",
       "</div>"
      ],
      "text/plain": [
       "                                               title sentiment_label\n",
       "0  Ястржембский называет имя арестованного за взр...        positive\n",
       "1           Чемпионат Италии: \"Ювентус\" ушел в отрыв         neutral\n",
       "2  Из Чернокозово отпущены первые амнистированные...        negative\n",
       "3  Парламент Украины затребовал у Конгресса США п...         neutral\n",
       "4            Пилот Формулы-1 уцелел в авиакатастрофе        positive"
      ]
     },
     "execution_count": 32,
     "metadata": {},
     "output_type": "execute_result"
    }
   ],
   "source": [
    "df_title_news_concat.head()"
   ]
  },
  {
   "cell_type": "code",
   "execution_count": 33,
   "id": "17110bdb-81f3-47ff-97d4-75fba9c04a54",
   "metadata": {},
   "outputs": [
    {
     "data": {
      "text/plain": [
       "(10000, 2)"
      ]
     },
     "execution_count": 33,
     "metadata": {},
     "output_type": "execute_result"
    }
   ],
   "source": [
    "df_title_news_concat.shape"
   ]
  },
  {
   "cell_type": "code",
   "execution_count": 34,
   "id": "67c25d2e-0d7a-4745-80be-8467820e72d0",
   "metadata": {},
   "outputs": [
    {
     "data": {
      "text/plain": [
       "<Axes: >"
      ]
     },
     "execution_count": 34,
     "metadata": {},
     "output_type": "execute_result"
    },
    {
     "data": {
      "image/png": "[encoded data removed]",
      "text/plain": [
       "<Figure size 640x480 with 1 Axes>"
      ]
     },
     "metadata": {},
     "output_type": "display_data"
    }
   ],
   "source": [
    "# Выведем график тональности заголовков новостей\n",
    "df_title_news_concat['sentiment_label'].hist()"
   ]
  },
  {
   "cell_type": "code",
   "execution_count": 35,
   "id": "e84b4ed9-7207-4cb0-bd20-ed183bd1fe48",
   "metadata": {},
   "outputs": [
    {
     "data": {
      "text/html": [
       "<div>\n",
       "<style scoped>\n",
       "    .dataframe tbody tr th:only-of-type {\n",
       "        vertical-align: middle;\n",
       "    }\n",
       "\n",
       "    .dataframe tbody tr th {\n",
       "        vertical-align: top;\n",
       "    }\n",
       "\n",
       "    .dataframe thead tr th {\n",
       "        text-align: left;\n",
       "    }\n",
       "\n",
       "    .dataframe thead tr:last-of-type th {\n",
       "        text-align: right;\n",
       "    }\n",
       "</style>\n",
       "<table border=\"1\" class=\"dataframe\">\n",
       "  <thead>\n",
       "    <tr>\n",
       "      <th></th>\n",
       "      <th>sentiment_label</th>\n",
       "    </tr>\n",
       "    <tr>\n",
       "      <th></th>\n",
       "      <th>count</th>\n",
       "    </tr>\n",
       "    <tr>\n",
       "      <th>sentiment_label</th>\n",
       "      <th></th>\n",
       "    </tr>\n",
       "  </thead>\n",
       "  <tbody>\n",
       "    <tr>\n",
       "      <th>negative</th>\n",
       "      <td>1186</td>\n",
       "    </tr>\n",
       "    <tr>\n",
       "      <th>neutral</th>\n",
       "      <td>7463</td>\n",
       "    </tr>\n",
       "    <tr>\n",
       "      <th>positive</th>\n",
       "      <td>1351</td>\n",
       "    </tr>\n",
       "  </tbody>\n",
       "</table>\n",
       "</div>"
      ],
      "text/plain": [
       "                sentiment_label\n",
       "                          count\n",
       "sentiment_label                \n",
       "negative                   1186\n",
       "neutral                    7463\n",
       "positive                   1351"
      ]
     },
     "execution_count": 35,
     "metadata": {},
     "output_type": "execute_result"
    }
   ],
   "source": [
    "# Статистика тональности заголоаков новостей\n",
    "df_title_news_concat.groupby(['sentiment_label']).agg({'sentiment_label': ['count']})"
   ]
  },
  {
   "cell_type": "markdown",
   "id": "8fc33ebf-0821-409f-a47a-52546928f076",
   "metadata": {},
   "source": [
    "## Обучение модели"
   ]
  },
  {
   "cell_type": "code",
   "execution_count": 36,
   "id": "67e47435-7936-4067-9f00-6612e1886395",
   "metadata": {},
   "outputs": [],
   "source": [
    "le = LabelEncoder()\n",
    "# Преобразуем в датафрейме буквеное обозначение в цифровое\n",
    "df_title_news_concat['sentiment_label'] = le.fit_transform(df_title_news_concat['sentiment_label'].astype(str))"
   ]
  },
  {
   "cell_type": "code",
   "execution_count": 37,
   "id": "da9a770d-da3f-46cd-bcd8-5c2c07a5f3b7",
   "metadata": {},
   "outputs": [
    {
     "data": {
      "text/html": [
       "<div>\n",
       "<style scoped>\n",
       "    .dataframe tbody tr th:only-of-type {\n",
       "        vertical-align: middle;\n",
       "    }\n",
       "\n",
       "    .dataframe tbody tr th {\n",
       "        vertical-align: top;\n",
       "    }\n",
       "\n",
       "    .dataframe thead th {\n",
       "        text-align: right;\n",
       "    }\n",
       "</style>\n",
       "<table border=\"1\" class=\"dataframe\">\n",
       "  <thead>\n",
       "    <tr style=\"text-align: right;\">\n",
       "      <th></th>\n",
       "      <th>title</th>\n",
       "      <th>sentiment_label</th>\n",
       "    </tr>\n",
       "  </thead>\n",
       "  <tbody>\n",
       "    <tr>\n",
       "      <th>0</th>\n",
       "      <td>Ястржембский называет имя арестованного за взр...</td>\n",
       "      <td>2</td>\n",
       "    </tr>\n",
       "    <tr>\n",
       "      <th>1</th>\n",
       "      <td>Чемпионат Италии: \"Ювентус\" ушел в отрыв</td>\n",
       "      <td>1</td>\n",
       "    </tr>\n",
       "    <tr>\n",
       "      <th>2</th>\n",
       "      <td>Из Чернокозово отпущены первые амнистированные...</td>\n",
       "      <td>0</td>\n",
       "    </tr>\n",
       "    <tr>\n",
       "      <th>3</th>\n",
       "      <td>Парламент Украины затребовал у Конгресса США п...</td>\n",
       "      <td>1</td>\n",
       "    </tr>\n",
       "    <tr>\n",
       "      <th>4</th>\n",
       "      <td>Пилот Формулы-1 уцелел в авиакатастрофе</td>\n",
       "      <td>2</td>\n",
       "    </tr>\n",
       "  </tbody>\n",
       "</table>\n",
       "</div>"
      ],
      "text/plain": [
       "                                               title  sentiment_label\n",
       "0  Ястржембский называет имя арестованного за взр...                2\n",
       "1           Чемпионат Италии: \"Ювентус\" ушел в отрыв                1\n",
       "2  Из Чернокозово отпущены первые амнистированные...                0\n",
       "3  Парламент Украины затребовал у Конгресса США п...                1\n",
       "4            Пилот Формулы-1 уцелел в авиакатастрофе                2"
      ]
     },
     "execution_count": 37,
     "metadata": {},
     "output_type": "execute_result"
    }
   ],
   "source": [
    "df_title_news_concat.head()"
   ]
  },
  {
   "cell_type": "code",
   "execution_count": 38,
   "id": "216b3378-7617-425b-af09-f18671f821f2",
   "metadata": {},
   "outputs": [],
   "source": [
    "# Перемешивание данных\n",
    "df_title_news_concat = shuffle(df_title_news_concat)"
   ]
  },
  {
   "cell_type": "code",
   "execution_count": 39,
   "id": "b24b667a-9f93-448e-8b2b-576212bb975d",
   "metadata": {},
   "outputs": [],
   "source": [
    "# Разделение датасета на размеченную и неразмеченную выборки\n",
    "labeled_title, unlabeled_title = train_test_split(df_title_news_concat, train_size=0.2, random_state=42)"
   ]
  },
  {
   "cell_type": "code",
   "execution_count": 40,
   "id": "f6c5f34b-ac4a-44bc-ade6-946e493200dd",
   "metadata": {},
   "outputs": [
    {
     "data": {
      "text/html": [
       "<div>\n",
       "<style scoped>\n",
       "    .dataframe tbody tr th:only-of-type {\n",
       "        vertical-align: middle;\n",
       "    }\n",
       "\n",
       "    .dataframe tbody tr th {\n",
       "        vertical-align: top;\n",
       "    }\n",
       "\n",
       "    .dataframe thead th {\n",
       "        text-align: right;\n",
       "    }\n",
       "</style>\n",
       "<table border=\"1\" class=\"dataframe\">\n",
       "  <thead>\n",
       "    <tr style=\"text-align: right;\">\n",
       "      <th></th>\n",
       "      <th>title</th>\n",
       "      <th>sentiment_label</th>\n",
       "    </tr>\n",
       "  </thead>\n",
       "  <tbody>\n",
       "    <tr>\n",
       "      <th>1527</th>\n",
       "      <td>Иоанн Павел II прибыл в Грузию</td>\n",
       "      <td>1</td>\n",
       "    </tr>\n",
       "    <tr>\n",
       "      <th>2596</th>\n",
       "      <td>Северная Корея меняет ядерные ракеты на атомны...</td>\n",
       "      <td>1</td>\n",
       "    </tr>\n",
       "    <tr>\n",
       "      <th>8676</th>\n",
       "      <td>В Подмосковье взорвали маршрутку</td>\n",
       "      <td>1</td>\n",
       "    </tr>\n",
       "    <tr>\n",
       "      <th>1638</th>\n",
       "      <td>Гудермес станет столицей Чечни?</td>\n",
       "      <td>1</td>\n",
       "    </tr>\n",
       "    <tr>\n",
       "      <th>870</th>\n",
       "      <td>Франция стала лидером по экспорту оружия</td>\n",
       "      <td>1</td>\n",
       "    </tr>\n",
       "  </tbody>\n",
       "</table>\n",
       "</div>"
      ],
      "text/plain": [
       "                                                  title  sentiment_label\n",
       "1527                     Иоанн Павел II прибыл в Грузию                1\n",
       "2596  Северная Корея меняет ядерные ракеты на атомны...                1\n",
       "8676                   В Подмосковье взорвали маршрутку                1\n",
       "1638                    Гудермес станет столицей Чечни?                1\n",
       "870            Франция стала лидером по экспорту оружия                1"
      ]
     },
     "execution_count": 40,
     "metadata": {},
     "output_type": "execute_result"
    }
   ],
   "source": [
    "labeled_title.head()"
   ]
  },
  {
   "cell_type": "code",
   "execution_count": 41,
   "id": "81df271a-0e4b-408a-b633-3edee6b4ef6a",
   "metadata": {},
   "outputs": [
    {
     "data": {
      "text/html": [
       "<div>\n",
       "<style scoped>\n",
       "    .dataframe tbody tr th:only-of-type {\n",
       "        vertical-align: middle;\n",
       "    }\n",
       "\n",
       "    .dataframe tbody tr th {\n",
       "        vertical-align: top;\n",
       "    }\n",
       "\n",
       "    .dataframe thead th {\n",
       "        text-align: right;\n",
       "    }\n",
       "</style>\n",
       "<table border=\"1\" class=\"dataframe\">\n",
       "  <thead>\n",
       "    <tr style=\"text-align: right;\">\n",
       "      <th></th>\n",
       "      <th>title</th>\n",
       "      <th>sentiment_label</th>\n",
       "    </tr>\n",
       "  </thead>\n",
       "  <tbody>\n",
       "    <tr>\n",
       "      <th>3922</th>\n",
       "      <td>Пакистанские контрабандисты пропитывают героин...</td>\n",
       "      <td>1</td>\n",
       "    </tr>\n",
       "    <tr>\n",
       "      <th>3694</th>\n",
       "      <td>Кандидаты в президенты должны обнародовать все...</td>\n",
       "      <td>1</td>\n",
       "    </tr>\n",
       "    <tr>\n",
       "      <th>9557</th>\n",
       "      <td>В Индонезии поезд с углем раздавил более 30 детей</td>\n",
       "      <td>1</td>\n",
       "    </tr>\n",
       "    <tr>\n",
       "      <th>2516</th>\n",
       "      <td>У берегов Франции потерпел крушение танкер с н...</td>\n",
       "      <td>0</td>\n",
       "    </tr>\n",
       "    <tr>\n",
       "      <th>2920</th>\n",
       "      <td>Экипаж корабля Discovery починил космический т...</td>\n",
       "      <td>2</td>\n",
       "    </tr>\n",
       "  </tbody>\n",
       "</table>\n",
       "</div>"
      ],
      "text/plain": [
       "                                                  title  sentiment_label\n",
       "3922  Пакистанские контрабандисты пропитывают героин...                1\n",
       "3694  Кандидаты в президенты должны обнародовать все...                1\n",
       "9557  В Индонезии поезд с углем раздавил более 30 детей                1\n",
       "2516  У берегов Франции потерпел крушение танкер с н...                0\n",
       "2920  Экипаж корабля Discovery починил космический т...                2"
      ]
     },
     "execution_count": 41,
     "metadata": {},
     "output_type": "execute_result"
    }
   ],
   "source": [
    "unlabeled_title.head()"
   ]
  },
  {
   "cell_type": "code",
   "execution_count": 42,
   "id": "79866b48-1b25-4fc1-88d4-e1ff98b87fbd",
   "metadata": {},
   "outputs": [],
   "source": [
    "# Определение функции для обучения модели логистической регрессии на размеченных данных\n",
    "def train_model(labeled_title):\n",
    "    # Векторизация текстовых данных с помощью TF-IDF\n",
    "    vectorizer = TfidfVectorizer()\n",
    "    X = vectorizer.fit_transform(labeled_title['title'])\n",
    "    y = labeled_title['sentiment_label']\n",
    "\n",
    "    # Обучение модели логистической регрессии на размеченных данных\n",
    "    model = LogisticRegression()\n",
    "    model.fit(X, y)\n",
    "\n",
    "    return model, vectorizer"
   ]
  },
  {
   "cell_type": "code",
   "execution_count": 43,
   "id": "6bf1d9ff-c43e-4755-a8dd-94cd991237f5",
   "metadata": {},
   "outputs": [],
   "source": [
    "# Обучение начальной модели на небольшом наборе \n",
    "model, vectorizer = train_model(labeled_title)"
   ]
  },
  {
   "cell_type": "code",
   "execution_count": 44,
   "id": "a1828418-5e26-477b-b3c8-c9887db57107",
   "metadata": {},
   "outputs": [],
   "source": [
    "# Использование исходной модели для прогнозирования настроения неразмеченных данных\n",
    "X_unlabeled = vectorizer.transform(unlabeled_title['title'])\n",
    "y_unlabeled_predicted = model.predict(X_unlabeled)"
   ]
  },
  {
   "cell_type": "code",
   "execution_count": 45,
   "id": "d918abe3-f0b3-4ec1-9139-71102802cb72",
   "metadata": {},
   "outputs": [],
   "source": [
    "# Вычислить неопределенности или энтропии предсказаний\n",
    "y_unlabeled_proba = model.predict_proba(X_unlabeled)\n",
    "uncertainty = -(y_unlabeled_proba * np.log2(y_unlabeled_proba)).sum(axis=1)"
   ]
  },
  {
   "cell_type": "code",
   "execution_count": 46,
   "id": "4fe5c34f-073c-4366-bfd3-ceabbebdc7f7",
   "metadata": {},
   "outputs": [],
   "source": [
    "# Выбор 100 наиболее неопределенных точек данных для маркировки человеком\n",
    "labeled_title_new = unlabeled_title.iloc[uncertainty.argsort()[:100]]\n",
    "unlabeled_title_new = unlabeled_title.iloc[uncertainty.argsort()[100:]]"
   ]
  },
  {
   "cell_type": "code",
   "execution_count": 47,
   "id": "7bddbfaa-0c35-47e1-a0f0-dfbaa92d54bd",
   "metadata": {},
   "outputs": [
    {
     "data": {
      "text/html": [
       "<div>\n",
       "<style scoped>\n",
       "    .dataframe tbody tr th:only-of-type {\n",
       "        vertical-align: middle;\n",
       "    }\n",
       "\n",
       "    .dataframe tbody tr th {\n",
       "        vertical-align: top;\n",
       "    }\n",
       "\n",
       "    .dataframe thead th {\n",
       "        text-align: right;\n",
       "    }\n",
       "</style>\n",
       "<table border=\"1\" class=\"dataframe\">\n",
       "  <thead>\n",
       "    <tr style=\"text-align: right;\">\n",
       "      <th></th>\n",
       "      <th>title</th>\n",
       "      <th>sentiment_label</th>\n",
       "    </tr>\n",
       "  </thead>\n",
       "  <tbody>\n",
       "    <tr>\n",
       "      <th>7586</th>\n",
       "      <td>В Чечне ликвидирована крупная база боевиков</td>\n",
       "      <td>1</td>\n",
       "    </tr>\n",
       "    <tr>\n",
       "      <th>4531</th>\n",
       "      <td>Палестинские экстремисты поддерживают чеченски...</td>\n",
       "      <td>0</td>\n",
       "    </tr>\n",
       "    <tr>\n",
       "      <th>5406</th>\n",
       "      <td>The Times: В стане чеченских боевиков наметилс...</td>\n",
       "      <td>0</td>\n",
       "    </tr>\n",
       "    <tr>\n",
       "      <th>5401</th>\n",
       "      <td>Путин: Организованное сопротивление в Чечне сл...</td>\n",
       "      <td>0</td>\n",
       "    </tr>\n",
       "    <tr>\n",
       "      <th>7021</th>\n",
       "      <td>В нынешнем году в Чечне задержаны 1428 пособни...</td>\n",
       "      <td>1</td>\n",
       "    </tr>\n",
       "    <tr>\n",
       "      <th>...</th>\n",
       "      <td>...</td>\n",
       "      <td>...</td>\n",
       "    </tr>\n",
       "    <tr>\n",
       "      <th>9996</th>\n",
       "      <td>Путин пересадит губернаторов в Госсовет</td>\n",
       "      <td>1</td>\n",
       "    </tr>\n",
       "    <tr>\n",
       "      <th>2134</th>\n",
       "      <td>Северная Ирландия сформирует собственное прави...</td>\n",
       "      <td>1</td>\n",
       "    </tr>\n",
       "    <tr>\n",
       "      <th>2202</th>\n",
       "      <td>Конституционный суд поддержал президента в \"де...</td>\n",
       "      <td>1</td>\n",
       "    </tr>\n",
       "    <tr>\n",
       "      <th>3933</th>\n",
       "      <td>Военное командование перегруппирует силы в Чечне</td>\n",
       "      <td>1</td>\n",
       "    </tr>\n",
       "    <tr>\n",
       "      <th>3681</th>\n",
       "      <td>За сутки в Грозном убито 40 боевиков</td>\n",
       "      <td>1</td>\n",
       "    </tr>\n",
       "  </tbody>\n",
       "</table>\n",
       "<p>100 rows × 2 columns</p>\n",
       "</div>"
      ],
      "text/plain": [
       "                                                  title  sentiment_label\n",
       "7586        В Чечне ликвидирована крупная база боевиков                1\n",
       "4531  Палестинские экстремисты поддерживают чеченски...                0\n",
       "5406  The Times: В стане чеченских боевиков наметилс...                0\n",
       "5401  Путин: Организованное сопротивление в Чечне сл...                0\n",
       "7021  В нынешнем году в Чечне задержаны 1428 пособни...                1\n",
       "...                                                 ...              ...\n",
       "9996            Путин пересадит губернаторов в Госсовет                1\n",
       "2134  Северная Ирландия сформирует собственное прави...                1\n",
       "2202  Конституционный суд поддержал президента в \"де...                1\n",
       "3933   Военное командование перегруппирует силы в Чечне                1\n",
       "3681               За сутки в Грозном убито 40 боевиков                1\n",
       "\n",
       "[100 rows x 2 columns]"
      ]
     },
     "execution_count": 47,
     "metadata": {},
     "output_type": "execute_result"
    }
   ],
   "source": [
    "labeled_title_new"
   ]
  },
  {
   "cell_type": "code",
   "execution_count": 48,
   "id": "03d49b89-0c34-4340-9257-746a43a3f89c",
   "metadata": {},
   "outputs": [],
   "source": [
    "# Разметка новых точек данных и добавление их к размеченному множеству\n",
    "labeled_title = pd.concat([labeled_title, labeled_title_new])"
   ]
  },
  {
   "cell_type": "code",
   "execution_count": 49,
   "id": "3a0f9811-42c3-418d-b42f-f4972c5fbcb9",
   "metadata": {},
   "outputs": [
    {
     "data": {
      "text/plain": [
       "(2100, 2)"
      ]
     },
     "execution_count": 49,
     "metadata": {},
     "output_type": "execute_result"
    }
   ],
   "source": [
    "labeled_title.shape"
   ]
  },
  {
   "cell_type": "code",
   "execution_count": 50,
   "id": "49324d52-d25a-400b-bf32-9cea47297100",
   "metadata": {},
   "outputs": [
    {
     "data": {
      "text/plain": [
       "(7900, 2)"
      ]
     },
     "execution_count": 50,
     "metadata": {},
     "output_type": "execute_result"
    }
   ],
   "source": [
    "unlabeled_title_new.shape"
   ]
  },
  {
   "cell_type": "code",
   "execution_count": 51,
   "id": "949cf984-b5c7-4e53-9344-c4531722d95e",
   "metadata": {},
   "outputs": [],
   "source": [
    "# Переобучение модели на расширенном маркированном множестве\n",
    "model, vectorizer = train_model(labeled_title)"
   ]
  },
  {
   "cell_type": "markdown",
   "id": "4d899094-d619-4784-a72b-530e3f087c00",
   "metadata": {},
   "source": [
    "## Оценка обучения модели"
   ]
  },
  {
   "cell_type": "code",
   "execution_count": 52,
   "id": "96a3b4ca-e9b8-4098-8987-6f3aa0239e8b",
   "metadata": {},
   "outputs": [],
   "source": [
    "### Загружаем тестовый датасет\n",
    "title_test = pd.read_csv('./csv/test.csv', engine='python', on_bad_lines='skip')"
   ]
  },
  {
   "cell_type": "code",
   "execution_count": 53,
   "id": "dd628b0f-bd46-4012-ad2f-6537499b80e5",
   "metadata": {},
   "outputs": [],
   "source": [
    "# Преобразуем в датафрейме буквеное обозначение в цифровое\n",
    "title_test['sentiment_label'] = le.fit_transform(title_test['sentiment_label'].astype(str))"
   ]
  },
  {
   "cell_type": "code",
   "execution_count": 54,
   "id": "ad23afe1-0b0f-4d0a-95e4-c01faaf3cbb7",
   "metadata": {},
   "outputs": [
    {
     "data": {
      "text/html": [
       "<div>\n",
       "<style scoped>\n",
       "    .dataframe tbody tr th:only-of-type {\n",
       "        vertical-align: middle;\n",
       "    }\n",
       "\n",
       "    .dataframe tbody tr th {\n",
       "        vertical-align: top;\n",
       "    }\n",
       "\n",
       "    .dataframe thead th {\n",
       "        text-align: right;\n",
       "    }\n",
       "</style>\n",
       "<table border=\"1\" class=\"dataframe\">\n",
       "  <thead>\n",
       "    <tr style=\"text-align: right;\">\n",
       "      <th></th>\n",
       "      <th>title</th>\n",
       "      <th>sentiment_label</th>\n",
       "    </tr>\n",
       "  </thead>\n",
       "  <tbody>\n",
       "    <tr>\n",
       "      <th>0</th>\n",
       "      <td>Вагоны московского метро будут складываться га...</td>\n",
       "      <td>1</td>\n",
       "    </tr>\n",
       "    <tr>\n",
       "      <th>1</th>\n",
       "      <td>В Чечню пытались проникнуть наемники из Пакистана</td>\n",
       "      <td>1</td>\n",
       "    </tr>\n",
       "    <tr>\n",
       "      <th>2</th>\n",
       "      <td>Таллинские заключенные предпочитают голод духоте</td>\n",
       "      <td>0</td>\n",
       "    </tr>\n",
       "    <tr>\n",
       "      <th>3</th>\n",
       "      <td>Адвокатам \"Моста\" не удалось дать отвод следов...</td>\n",
       "      <td>1</td>\n",
       "    </tr>\n",
       "    <tr>\n",
       "      <th>4</th>\n",
       "      <td>В поезде Донецк-Москва нашли взрывчатку</td>\n",
       "      <td>1</td>\n",
       "    </tr>\n",
       "  </tbody>\n",
       "</table>\n",
       "</div>"
      ],
      "text/plain": [
       "                                               title  sentiment_label\n",
       "0  Вагоны московского метро будут складываться га...                1\n",
       "1  В Чечню пытались проникнуть наемники из Пакистана                1\n",
       "2   Таллинские заключенные предпочитают голод духоте                0\n",
       "3  Адвокатам \"Моста\" не удалось дать отвод следов...                1\n",
       "4            В поезде Донецк-Москва нашли взрывчатку                1"
      ]
     },
     "execution_count": 54,
     "metadata": {},
     "output_type": "execute_result"
    }
   ],
   "source": [
    "title_test.head()"
   ]
  },
  {
   "cell_type": "code",
   "execution_count": 55,
   "id": "b4924aa7-3fdc-450c-b415-e8bae696278f",
   "metadata": {},
   "outputs": [
    {
     "name": "stdout",
     "output_type": "stream",
     "text": [
      "0.83884\n"
     ]
    }
   ],
   "source": [
    "# Оценка модели на тестовом датасете\n",
    "X_test = vectorizer.transform(title_test['title'])\n",
    "y_test_predicted = model.predict(X_test)\n",
    "f1 = f1_score(title_test['sentiment_label'], y_test_predicted, average='micro')\n",
    "\n",
    "print(f1)"
   ]
  },
  {
   "cell_type": "markdown",
   "id": "e631817d-9398-4138-b706-525b0cdb4f4a",
   "metadata": {},
   "source": [
    "### Вывод и итоги\n",
    "Работа включала в себя следующие этапы:\n",
    "\n",
    "* Выбор и загрузка датасета: Датасет новостей с lenta.ru был успешно загружен и предварительно обработан.\n",
    "* Разметка данных:\n",
    "* Автоматическая разметка на основе тонального словаря.\n",
    "* Ручная разметка с использованием label-studio.\n",
    "* Объединение размеченных данных: Два подмножества данных были объединены для последующего использования.\n",
    "* Обучение модели: Обучение модели логистической регрессии на размеченных данных позволило создать предсказательную модель настроений.\n",
    "* Оценка модели: F1-score был использован для оценки точности модели на тестовом наборе данных."
   ]
  },
  {
   "cell_type": "markdown",
   "id": "8ce240ba",
   "metadata": {},
   "source": [
    "### Итоговая эффективность модели\n",
    "Модель показала хорошую эффективность на тестовом наборе данных, продемонстрировав адекватную способность классифицировать настроения заголовков новостей. F1-score является приемлемым показателем для начального этапа, однако дальнейшее улучшение возможно путем увеличения объема размеченных данных и использования более сложных моделей."
   ]
  },
  {
   "cell_type": "markdown",
   "id": "f064cf93",
   "metadata": {},
   "source": [
    "### Заключение\n",
    "\n",
    "    Данная работа продемонстрировала полный цикл разметки данных и построения модели машинного обучения для задачи анализа настроений. Было показано, как сочетание автоматической и ручной разметки может быть использовано для улучшения качества данных и последующей эффективности модели."
   ]
  },
  {
   "cell_type": "code",
   "execution_count": null,
   "id": "a45c5478",
   "metadata": {},
   "outputs": [],
   "source": []
  }
 ],
 "metadata": {
  "kernelspec": {
   "display_name": "Python 3 (ipykernel)",
   "language": "python",
   "name": "python3"
  },
  "language_info": {
   "codemirror_mode": {
    "name": "ipython",
    "version": 3
   },
   "file_extension": ".py",
   "mimetype": "text/x-python",
   "name": "python",
   "nbconvert_exporter": "python",
   "pygments_lexer": "ipython3",
   "version": "3.10.9"
  }
 },
 "nbformat": 4,
 "nbformat_minor": 5
}
